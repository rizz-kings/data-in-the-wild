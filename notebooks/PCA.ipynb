{
 "cells": [
  {
   "cell_type": "code",
   "execution_count": 72,
   "metadata": {},
   "outputs": [],
   "source": [
    "import pandas as pd\n",
    "from sklearn.decomposition import PCA\n",
    "import numpy as np\n",
    "from sklearn import preprocessing\n",
    "import datetime as dt\n",
    "import seaborn as sns\n",
    "import scipy.stats as stats\n",
    "from sklearn.linear_model import LinearRegression\n",
    "from sklearn.metrics import r2_score"
   ]
  },
  {
   "cell_type": "code",
   "execution_count": 2,
   "metadata": {},
   "outputs": [
    {
     "name": "stderr",
     "output_type": "stream",
     "text": [
      "/var/folders/7n/1v9m4ykn66ddbcxt5nwgg9280000gn/T/ipykernel_49862/1621350978.py:2: DtypeWarning: Columns (5,12) have mixed types. Specify dtype option on import or set low_memory=False.\n",
      "  reviews = pd.read_csv('../data/processed/all_reviews.csv').drop(columns='Unnamed: 0')\n"
     ]
    }
   ],
   "source": [
    "df = pd.read_csv('../data/processed/movie_stats/movie_stats_clustered.csv')\n",
    "reviews = pd.read_csv('../data/processed/all_reviews.csv').drop(columns='Unnamed: 0')\n",
    "df.movie_name = df.movie_name.str.lower()\n",
    "df.movie_name = df.movie_name.str.replace(' ', '-')\n",
    "df.movie_name = df.movie_name.str.replace(':', '')\n",
    "df.movie_name = df.movie_name.str.replace('the-avengers', 'avengers-assemble')\n",
    "df = df.query('movie_name != \"the-marvels\"')\n",
    "reviews2 = reviews.copy()\n",
    "reviews = reviews.dropna(subset='score')\n",
    "# df = df.sort_values('movie_name')"
   ]
  },
  {
   "cell_type": "code",
   "execution_count": 3,
   "metadata": {},
   "outputs": [
    {
     "data": {
      "text/html": [
       "<div>\n",
       "<style scoped>\n",
       "    .dataframe tbody tr th:only-of-type {\n",
       "        vertical-align: middle;\n",
       "    }\n",
       "\n",
       "    .dataframe tbody tr th {\n",
       "        vertical-align: top;\n",
       "    }\n",
       "\n",
       "    .dataframe thead th {\n",
       "        text-align: right;\n",
       "    }\n",
       "</style>\n",
       "<table border=\"1\" class=\"dataframe\">\n",
       "  <thead>\n",
       "    <tr style=\"text-align: right;\">\n",
       "      <th></th>\n",
       "      <th>Unnamed: 0</th>\n",
       "      <th>movie_name</th>\n",
       "      <th>imdb_id</th>\n",
       "      <th>release_date</th>\n",
       "      <th>cast</th>\n",
       "      <th>direction</th>\n",
       "      <th>production_companies</th>\n",
       "      <th>movie_budget</th>\n",
       "      <th>movie_revenue</th>\n",
       "      <th>film_series</th>\n",
       "      <th>film_series_cluster</th>\n",
       "      <th>cast_similarity</th>\n",
       "    </tr>\n",
       "  </thead>\n",
       "  <tbody>\n",
       "    <tr>\n",
       "      <th>1</th>\n",
       "      <td>1</td>\n",
       "      <td>guardians-of-the-galaxy-vol.-3</td>\n",
       "      <td>tt6791350</td>\n",
       "      <td>2023-05-03</td>\n",
       "      <td>{'Chris Pratt': 'Peter Quill / Star-Lord', 'Zo...</td>\n",
       "      <td>['James Gunn']</td>\n",
       "      <td>['Marvel Studios', 'Kevin Feige Productions']</td>\n",
       "      <td>250000000</td>\n",
       "      <td>845430302</td>\n",
       "      <td>9</td>\n",
       "      <td>2</td>\n",
       "      <td>0.823059</td>\n",
       "    </tr>\n",
       "    <tr>\n",
       "      <th>2</th>\n",
       "      <td>2</td>\n",
       "      <td>spider-man-no-way-home</td>\n",
       "      <td>tt10872600</td>\n",
       "      <td>2021-12-15</td>\n",
       "      <td>{'Tom Holland': 'Peter Parker / Spider-Man', '...</td>\n",
       "      <td>['Jon Watts']</td>\n",
       "      <td>['Marvel Studios', 'Pascal Pictures', 'Columbi...</td>\n",
       "      <td>200000000</td>\n",
       "      <td>1921847111</td>\n",
       "      <td>5</td>\n",
       "      <td>7</td>\n",
       "      <td>0.549519</td>\n",
       "    </tr>\n",
       "    <tr>\n",
       "      <th>3</th>\n",
       "      <td>3</td>\n",
       "      <td>avengers-infinity-war</td>\n",
       "      <td>tt4154756</td>\n",
       "      <td>2018-04-25</td>\n",
       "      <td>{'Robert Downey Jr.': 'Tony Stark / Iron Man',...</td>\n",
       "      <td>['Anthony Russo', 'Joe Russo']</td>\n",
       "      <td>['Marvel Studios']</td>\n",
       "      <td>300000000</td>\n",
       "      <td>2052415039</td>\n",
       "      <td>6</td>\n",
       "      <td>1</td>\n",
       "      <td>0.779569</td>\n",
       "    </tr>\n",
       "    <tr>\n",
       "      <th>4</th>\n",
       "      <td>4</td>\n",
       "      <td>ant-man-and-the-wasp-quantumania</td>\n",
       "      <td>tt10954600</td>\n",
       "      <td>2023-02-15</td>\n",
       "      <td>{'Paul Rudd': 'Scott Lang / Ant-Man', 'Evangel...</td>\n",
       "      <td>['Peyton Reed']</td>\n",
       "      <td>['Marvel Studios', 'Kevin Feige Productions']</td>\n",
       "      <td>200000000</td>\n",
       "      <td>476071180</td>\n",
       "      <td>4</td>\n",
       "      <td>4</td>\n",
       "      <td>0.546267</td>\n",
       "    </tr>\n",
       "    <tr>\n",
       "      <th>5</th>\n",
       "      <td>5</td>\n",
       "      <td>black-panther-wakanda-forever</td>\n",
       "      <td>tt9114286</td>\n",
       "      <td>2022-11-09</td>\n",
       "      <td>{'Letitia Wright': 'Shuri / Black Panther', \"L...</td>\n",
       "      <td>['Ryan Coogler']</td>\n",
       "      <td>['Marvel Studios']</td>\n",
       "      <td>250000000</td>\n",
       "      <td>859102154</td>\n",
       "      <td>3</td>\n",
       "      <td>10</td>\n",
       "      <td>0.257418</td>\n",
       "    </tr>\n",
       "  </tbody>\n",
       "</table>\n",
       "</div>"
      ],
      "text/plain": [
       "   Unnamed: 0                        movie_name     imdb_id release_date  \\\n",
       "1           1    guardians-of-the-galaxy-vol.-3   tt6791350   2023-05-03   \n",
       "2           2            spider-man-no-way-home  tt10872600   2021-12-15   \n",
       "3           3             avengers-infinity-war   tt4154756   2018-04-25   \n",
       "4           4  ant-man-and-the-wasp-quantumania  tt10954600   2023-02-15   \n",
       "5           5     black-panther-wakanda-forever   tt9114286   2022-11-09   \n",
       "\n",
       "                                                cast  \\\n",
       "1  {'Chris Pratt': 'Peter Quill / Star-Lord', 'Zo...   \n",
       "2  {'Tom Holland': 'Peter Parker / Spider-Man', '...   \n",
       "3  {'Robert Downey Jr.': 'Tony Stark / Iron Man',...   \n",
       "4  {'Paul Rudd': 'Scott Lang / Ant-Man', 'Evangel...   \n",
       "5  {'Letitia Wright': 'Shuri / Black Panther', \"L...   \n",
       "\n",
       "                        direction  \\\n",
       "1                  ['James Gunn']   \n",
       "2                   ['Jon Watts']   \n",
       "3  ['Anthony Russo', 'Joe Russo']   \n",
       "4                 ['Peyton Reed']   \n",
       "5                ['Ryan Coogler']   \n",
       "\n",
       "                                production_companies  movie_budget  \\\n",
       "1      ['Marvel Studios', 'Kevin Feige Productions']     250000000   \n",
       "2  ['Marvel Studios', 'Pascal Pictures', 'Columbi...     200000000   \n",
       "3                                 ['Marvel Studios']     300000000   \n",
       "4      ['Marvel Studios', 'Kevin Feige Productions']     200000000   \n",
       "5                                 ['Marvel Studios']     250000000   \n",
       "\n",
       "   movie_revenue  film_series  film_series_cluster  cast_similarity  \n",
       "1      845430302            9                    2         0.823059  \n",
       "2     1921847111            5                    7         0.549519  \n",
       "3     2052415039            6                    1         0.779569  \n",
       "4      476071180            4                    4         0.546267  \n",
       "5      859102154            3                   10         0.257418  "
      ]
     },
     "execution_count": 3,
     "metadata": {},
     "output_type": "execute_result"
    }
   ],
   "source": [
    "df.head()"
   ]
  },
  {
   "cell_type": "code",
   "execution_count": 4,
   "metadata": {},
   "outputs": [
    {
     "name": "stdout",
     "output_type": "stream",
     "text": [
      "the-guardians-of-the-galaxy-holiday-special\n",
      "shangchi-and-the-legend-of-the-ten-rings\n",
      "antman-and-the-wasp\n",
      "antman-and-the-wasp-quantumania\n",
      "werewolf-by-night\n",
      "-----------\n"
     ]
    }
   ],
   "source": [
    "for i in set(reviews.movie):\n",
    "    if i not in set(df.movie_name):\n",
    "        print(i)\n",
    "print('-----------')\n",
    "for i in set(df.movie_name):\n",
    "    if i not in set(reviews.movie):\n",
    "        print(i)"
   ]
  },
  {
   "cell_type": "code",
   "execution_count": 5,
   "metadata": {},
   "outputs": [],
   "source": [
    "yes_dict = {str(i) : [] for i in range(len(set(reviews.score))+1)}\n",
    "yes_dict['mean_score'] = []\n",
    "yes_dict['median_score'] = []\n",
    "\n",
    "most_revs = []\n",
    "for i in df.movie_name:\n",
    "    df1 = df.query('movie_name == @i')\n",
    "    df_rev = reviews.query('movie == @i')\n",
    "    score_list = [[] for i in range(len(set(reviews.score))+1)]\n",
    "    for j in range(len(score_list)):\n",
    "        df2 = reviews.query('movie == @i & score == @j')\n",
    "        score_list[j].append(int(len(df2)) / len(df_rev))\n",
    "        yes_dict[str(j)].append(score_list[j][0])\n",
    "    yes_dict['mean_score'].append(np.mean(df_rev.score)/10)\n",
    "    yes_dict['median_score'].append(np.median(df_rev.score)/10)"
   ]
  },
  {
   "cell_type": "code",
   "execution_count": 6,
   "metadata": {},
   "outputs": [],
   "source": [
    "for i, j in yes_dict.items():\n",
    "    df[i] = j\n",
    "df = df.drop(columns='0')"
   ]
  },
  {
   "cell_type": "code",
   "execution_count": 7,
   "metadata": {},
   "outputs": [],
   "source": [
    "y = df[['movie_revenue']]\n",
    "df_pca = df.drop(columns=['Unnamed: 0','film_series',  'film_series_cluster', 'imdb_id', 'cast', 'direction', 'production_companies', 'movie_revenue'])\n",
    "df_pca = df_pca.set_index('movie_name')\n",
    "\n",
    "scaler = preprocessing.MinMaxScaler()"
   ]
  },
  {
   "cell_type": "code",
   "execution_count": 8,
   "metadata": {},
   "outputs": [],
   "source": [
    "df_pca['release_date']  = pd.to_datetime(df_pca['release_date'])"
   ]
  },
  {
   "cell_type": "code",
   "execution_count": 9,
   "metadata": {},
   "outputs": [],
   "source": [
    "df_pca['release_date']  = (df_pca['release_date'] - dt.datetime(1970,1,1)).dt.total_seconds()\n",
    "\n",
    "df_pca['release_date']  = scaler.fit_transform(np.array(df_pca['release_date']).reshape(-1,1))\n",
    "df_pca['movie_budget']  = scaler.fit_transform(np.array(df_pca['movie_budget']).reshape(-1,1))\n",
    "\n"
   ]
  },
  {
   "cell_type": "code",
   "execution_count": null,
   "metadata": {},
   "outputs": [],
   "source": []
  },
  {
   "cell_type": "code",
   "execution_count": 10,
   "metadata": {},
   "outputs": [],
   "source": [
    "var_list = []\n",
    "for i in range(1 , len(df_pca.columns) + 1):\n",
    "    # print(i)\n",
    "    pca = PCA(n_components=i)\n",
    "    pca.fit_transform(df_pca)\n",
    "    # print(pca.get_feature_names_out())\n",
    "    var_list.append(pca.explained_variance_ratio_.cumsum())"
   ]
  },
  {
   "cell_type": "code",
   "execution_count": 11,
   "metadata": {},
   "outputs": [],
   "source": [
    "df_after_pca = pd.DataFrame(pca.components_, columns= df_pca.columns, index = pca.get_feature_names_out())"
   ]
  },
  {
   "cell_type": "code",
   "execution_count": 12,
   "metadata": {},
   "outputs": [
    {
     "data": {
      "text/plain": [
       "<Axes: >"
      ]
     },
     "execution_count": 12,
     "metadata": {},
     "output_type": "execute_result"
    },
    {
     "data": {
      "image/png": "[encoded data removed]",
      "text/plain": [
       "<Figure size 640x480 with 1 Axes>"
      ]
     },
     "metadata": {},
     "output_type": "display_data"
    }
   ],
   "source": [
    "sns.lineplot(x = range(1, 16), y = var_list[-1])"
   ]
  },
  {
   "cell_type": "code",
   "execution_count": 13,
   "metadata": {},
   "outputs": [],
   "source": [
    "# df_pca.to_parquet('../data/processed/movie_stats/pca_data.parquet')"
   ]
  },
  {
   "cell_type": "code",
   "execution_count": 14,
   "metadata": {},
   "outputs": [],
   "source": [
    "# reviews.iloc[:150000].to_parquet('../data/processed/reviews1.parquet')\n",
    "# reviews.iloc[150000:].to_parquet('../data/processed/reviews2.parquet')"
   ]
  },
  {
   "cell_type": "code",
   "execution_count": 15,
   "metadata": {},
   "outputs": [],
   "source": [
    "def corr_data(reviews, df):\n",
    "    for i in set(reviews.movie):\n",
    "        i_df = reviews.query('movie == @i')"
   ]
  },
  {
   "cell_type": "code",
   "execution_count": 16,
   "metadata": {},
   "outputs": [],
   "source": [
    "df['mean_score'] = df['mean_score'] * 10\n",
    "df['median_score'] = df['median_score'] * 10\n",
    "\n",
    "df.drop(columns=['Unnamed: 0']).to_csv('../data/plot_data/graph_data.csv')"
   ]
  },
  {
   "cell_type": "code",
   "execution_count": 17,
   "metadata": {},
   "outputs": [
    {
     "data": {
      "text/plain": [
       "Index(['Unnamed: 0', 'movie_name', 'imdb_id', 'release_date', 'cast',\n",
       "       'direction', 'production_companies', 'movie_budget', 'movie_revenue',\n",
       "       'film_series', 'film_series_cluster', 'cast_similarity', '1', '2', '3',\n",
       "       '4', '5', '6', '7', '8', '9', '10', 'mean_score', 'median_score'],\n",
       "      dtype='object')"
      ]
     },
     "execution_count": 17,
     "metadata": {},
     "output_type": "execute_result"
    }
   ],
   "source": [
    "df.columns"
   ]
  },
  {
   "cell_type": "code",
   "execution_count": 18,
   "metadata": {},
   "outputs": [
    {
     "data": {
      "text/html": [
       "<div>\n",
       "<style scoped>\n",
       "    .dataframe tbody tr th:only-of-type {\n",
       "        vertical-align: middle;\n",
       "    }\n",
       "\n",
       "    .dataframe tbody tr th {\n",
       "        vertical-align: top;\n",
       "    }\n",
       "\n",
       "    .dataframe thead th {\n",
       "        text-align: right;\n",
       "    }\n",
       "</style>\n",
       "<table border=\"1\" class=\"dataframe\">\n",
       "  <thead>\n",
       "    <tr style=\"text-align: right;\">\n",
       "      <th></th>\n",
       "      <th>Unnamed: 0</th>\n",
       "      <th>movie_name</th>\n",
       "      <th>imdb_id</th>\n",
       "      <th>release_date</th>\n",
       "      <th>cast</th>\n",
       "      <th>direction</th>\n",
       "      <th>production_companies</th>\n",
       "      <th>movie_budget</th>\n",
       "      <th>movie_revenue</th>\n",
       "      <th>film_series</th>\n",
       "      <th>...</th>\n",
       "      <th>3</th>\n",
       "      <th>4</th>\n",
       "      <th>5</th>\n",
       "      <th>6</th>\n",
       "      <th>7</th>\n",
       "      <th>8</th>\n",
       "      <th>9</th>\n",
       "      <th>10</th>\n",
       "      <th>mean_score</th>\n",
       "      <th>median_score</th>\n",
       "    </tr>\n",
       "  </thead>\n",
       "  <tbody>\n",
       "    <tr>\n",
       "      <th>1</th>\n",
       "      <td>1</td>\n",
       "      <td>guardians-of-the-galaxy-vol.-3</td>\n",
       "      <td>tt6791350</td>\n",
       "      <td>2023-05-03</td>\n",
       "      <td>{'Chris Pratt': 'Peter Quill / Star-Lord', 'Zo...</td>\n",
       "      <td>['James Gunn']</td>\n",
       "      <td>['Marvel Studios', 'Kevin Feige Productions']</td>\n",
       "      <td>250000000</td>\n",
       "      <td>845430302</td>\n",
       "      <td>9</td>\n",
       "      <td>...</td>\n",
       "      <td>0.013507</td>\n",
       "      <td>0.027099</td>\n",
       "      <td>0.019012</td>\n",
       "      <td>0.044563</td>\n",
       "      <td>0.047402</td>\n",
       "      <td>0.115709</td>\n",
       "      <td>0.120699</td>\n",
       "      <td>0.559446</td>\n",
       "      <td>8.526411</td>\n",
       "      <td>10.0</td>\n",
       "    </tr>\n",
       "    <tr>\n",
       "      <th>2</th>\n",
       "      <td>2</td>\n",
       "      <td>spider-man-no-way-home</td>\n",
       "      <td>tt10872600</td>\n",
       "      <td>2021-12-15</td>\n",
       "      <td>{'Tom Holland': 'Peter Parker / Spider-Man', '...</td>\n",
       "      <td>['Jon Watts']</td>\n",
       "      <td>['Marvel Studios', 'Pascal Pictures', 'Columbi...</td>\n",
       "      <td>200000000</td>\n",
       "      <td>1921847111</td>\n",
       "      <td>5</td>\n",
       "      <td>...</td>\n",
       "      <td>0.018690</td>\n",
       "      <td>0.023940</td>\n",
       "      <td>0.029819</td>\n",
       "      <td>0.051134</td>\n",
       "      <td>0.061634</td>\n",
       "      <td>0.091243</td>\n",
       "      <td>0.129252</td>\n",
       "      <td>0.539059</td>\n",
       "      <td>8.396367</td>\n",
       "      <td>10.0</td>\n",
       "    </tr>\n",
       "    <tr>\n",
       "      <th>3</th>\n",
       "      <td>3</td>\n",
       "      <td>avengers-infinity-war</td>\n",
       "      <td>tt4154756</td>\n",
       "      <td>2018-04-25</td>\n",
       "      <td>{'Robert Downey Jr.': 'Tony Stark / Iron Man',...</td>\n",
       "      <td>['Anthony Russo', 'Joe Russo']</td>\n",
       "      <td>['Marvel Studios']</td>\n",
       "      <td>300000000</td>\n",
       "      <td>2052415039</td>\n",
       "      <td>6</td>\n",
       "      <td>...</td>\n",
       "      <td>0.015914</td>\n",
       "      <td>0.019612</td>\n",
       "      <td>0.028690</td>\n",
       "      <td>0.037431</td>\n",
       "      <td>0.054354</td>\n",
       "      <td>0.105906</td>\n",
       "      <td>0.177743</td>\n",
       "      <td>0.500616</td>\n",
       "      <td>8.404236</td>\n",
       "      <td>10.0</td>\n",
       "    </tr>\n",
       "    <tr>\n",
       "      <th>4</th>\n",
       "      <td>4</td>\n",
       "      <td>ant-man-and-the-wasp-quantumania</td>\n",
       "      <td>tt10954600</td>\n",
       "      <td>2023-02-15</td>\n",
       "      <td>{'Paul Rudd': 'Scott Lang / Ant-Man', 'Evangel...</td>\n",
       "      <td>['Peyton Reed']</td>\n",
       "      <td>['Marvel Studios', 'Kevin Feige Productions']</td>\n",
       "      <td>200000000</td>\n",
       "      <td>476071180</td>\n",
       "      <td>4</td>\n",
       "      <td>...</td>\n",
       "      <td>0.039254</td>\n",
       "      <td>0.062970</td>\n",
       "      <td>0.051848</td>\n",
       "      <td>0.095518</td>\n",
       "      <td>0.104841</td>\n",
       "      <td>0.172064</td>\n",
       "      <td>0.077527</td>\n",
       "      <td>0.278705</td>\n",
       "      <td>6.961400</td>\n",
       "      <td>8.0</td>\n",
       "    </tr>\n",
       "    <tr>\n",
       "      <th>5</th>\n",
       "      <td>5</td>\n",
       "      <td>black-panther-wakanda-forever</td>\n",
       "      <td>tt9114286</td>\n",
       "      <td>2022-11-09</td>\n",
       "      <td>{'Letitia Wright': 'Shuri / Black Panther', \"L...</td>\n",
       "      <td>['Ryan Coogler']</td>\n",
       "      <td>['Marvel Studios']</td>\n",
       "      <td>250000000</td>\n",
       "      <td>859102154</td>\n",
       "      <td>3</td>\n",
       "      <td>...</td>\n",
       "      <td>0.026659</td>\n",
       "      <td>0.044026</td>\n",
       "      <td>0.037687</td>\n",
       "      <td>0.062956</td>\n",
       "      <td>0.050538</td>\n",
       "      <td>0.087444</td>\n",
       "      <td>0.074071</td>\n",
       "      <td>0.520754</td>\n",
       "      <td>7.884856</td>\n",
       "      <td>10.0</td>\n",
       "    </tr>\n",
       "  </tbody>\n",
       "</table>\n",
       "<p>5 rows × 24 columns</p>\n",
       "</div>"
      ],
      "text/plain": [
       "   Unnamed: 0                        movie_name     imdb_id release_date  \\\n",
       "1           1    guardians-of-the-galaxy-vol.-3   tt6791350   2023-05-03   \n",
       "2           2            spider-man-no-way-home  tt10872600   2021-12-15   \n",
       "3           3             avengers-infinity-war   tt4154756   2018-04-25   \n",
       "4           4  ant-man-and-the-wasp-quantumania  tt10954600   2023-02-15   \n",
       "5           5     black-panther-wakanda-forever   tt9114286   2022-11-09   \n",
       "\n",
       "                                                cast  \\\n",
       "1  {'Chris Pratt': 'Peter Quill / Star-Lord', 'Zo...   \n",
       "2  {'Tom Holland': 'Peter Parker / Spider-Man', '...   \n",
       "3  {'Robert Downey Jr.': 'Tony Stark / Iron Man',...   \n",
       "4  {'Paul Rudd': 'Scott Lang / Ant-Man', 'Evangel...   \n",
       "5  {'Letitia Wright': 'Shuri / Black Panther', \"L...   \n",
       "\n",
       "                        direction  \\\n",
       "1                  ['James Gunn']   \n",
       "2                   ['Jon Watts']   \n",
       "3  ['Anthony Russo', 'Joe Russo']   \n",
       "4                 ['Peyton Reed']   \n",
       "5                ['Ryan Coogler']   \n",
       "\n",
       "                                production_companies  movie_budget  \\\n",
       "1      ['Marvel Studios', 'Kevin Feige Productions']     250000000   \n",
       "2  ['Marvel Studios', 'Pascal Pictures', 'Columbi...     200000000   \n",
       "3                                 ['Marvel Studios']     300000000   \n",
       "4      ['Marvel Studios', 'Kevin Feige Productions']     200000000   \n",
       "5                                 ['Marvel Studios']     250000000   \n",
       "\n",
       "   movie_revenue  film_series  ...         3         4         5         6  \\\n",
       "1      845430302            9  ...  0.013507  0.027099  0.019012  0.044563   \n",
       "2     1921847111            5  ...  0.018690  0.023940  0.029819  0.051134   \n",
       "3     2052415039            6  ...  0.015914  0.019612  0.028690  0.037431   \n",
       "4      476071180            4  ...  0.039254  0.062970  0.051848  0.095518   \n",
       "5      859102154            3  ...  0.026659  0.044026  0.037687  0.062956   \n",
       "\n",
       "          7         8         9        10  mean_score  median_score  \n",
       "1  0.047402  0.115709  0.120699  0.559446    8.526411          10.0  \n",
       "2  0.061634  0.091243  0.129252  0.539059    8.396367          10.0  \n",
       "3  0.054354  0.105906  0.177743  0.500616    8.404236          10.0  \n",
       "4  0.104841  0.172064  0.077527  0.278705    6.961400           8.0  \n",
       "5  0.050538  0.087444  0.074071  0.520754    7.884856          10.0  \n",
       "\n",
       "[5 rows x 24 columns]"
      ]
     },
     "execution_count": 18,
     "metadata": {},
     "output_type": "execute_result"
    }
   ],
   "source": [
    "df.head()"
   ]
  },
  {
   "cell_type": "code",
   "execution_count": 19,
   "metadata": {},
   "outputs": [
    {
     "data": {
      "text/plain": [
       "0.499"
      ]
     },
     "execution_count": 19,
     "metadata": {},
     "output_type": "execute_result"
    }
   ],
   "source": [
    "round(stats.linregress(df['10'], df['movie_revenue']).rvalue, 3)"
   ]
  },
  {
   "cell_type": "code",
   "execution_count": 20,
   "metadata": {},
   "outputs": [
    {
     "data": {
      "text/plain": [
       "0.279"
      ]
     },
     "execution_count": 20,
     "metadata": {},
     "output_type": "execute_result"
    }
   ],
   "source": [
    "round(stats.linregress(df['mean_score'], df['movie_revenue']).rvalue, 3)"
   ]
  },
  {
   "cell_type": "code",
   "execution_count": 21,
   "metadata": {},
   "outputs": [
    {
     "data": {
      "text/html": [
       "<div>\n",
       "<style scoped>\n",
       "    .dataframe tbody tr th:only-of-type {\n",
       "        vertical-align: middle;\n",
       "    }\n",
       "\n",
       "    .dataframe tbody tr th {\n",
       "        vertical-align: top;\n",
       "    }\n",
       "\n",
       "    .dataframe thead th {\n",
       "        text-align: right;\n",
       "    }\n",
       "</style>\n",
       "<table border=\"1\" class=\"dataframe\">\n",
       "  <thead>\n",
       "    <tr style=\"text-align: right;\">\n",
       "      <th></th>\n",
       "      <th>index</th>\n",
       "      <th>date</th>\n",
       "      <th>user</th>\n",
       "      <th>score</th>\n",
       "      <th>title</th>\n",
       "      <th>text</th>\n",
       "      <th>url</th>\n",
       "      <th>movie</th>\n",
       "      <th>scrape_date</th>\n",
       "      <th>is_rotten</th>\n",
       "      <th>source</th>\n",
       "      <th>scrape date</th>\n",
       "    </tr>\n",
       "  </thead>\n",
       "  <tbody>\n",
       "    <tr>\n",
       "      <th>356176</th>\n",
       "      <td>0</td>\n",
       "      <td>2023-09-07</td>\n",
       "      <td>Jeffrey Peterson</td>\n",
       "      <td>NaN</td>\n",
       "      <td>NaN</td>\n",
       "      <td>Ant-Man and the Wasp: Quantumania is a film th...</td>\n",
       "      <td>https://www.rottentomatoes.com/m/ant_man_and_t...</td>\n",
       "      <td>ant-man-and-the-wasp-quantumania</td>\n",
       "      <td>2023-10-21</td>\n",
       "      <td>0.0</td>\n",
       "      <td>rt_crit</td>\n",
       "      <td>2023-10-20</td>\n",
       "    </tr>\n",
       "    <tr>\n",
       "      <th>356177</th>\n",
       "      <td>1</td>\n",
       "      <td>2023-08-23</td>\n",
       "      <td>Lee Zumpe</td>\n",
       "      <td>NaN</td>\n",
       "      <td>NaN</td>\n",
       "      <td>It may feel like the director ordered a truckl...</td>\n",
       "      <td>https://www.rottentomatoes.com/m/ant_man_and_t...</td>\n",
       "      <td>ant-man-and-the-wasp-quantumania</td>\n",
       "      <td>2023-10-21</td>\n",
       "      <td>0.0</td>\n",
       "      <td>rt_crit</td>\n",
       "      <td>2023-10-20</td>\n",
       "    </tr>\n",
       "    <tr>\n",
       "      <th>356178</th>\n",
       "      <td>2</td>\n",
       "      <td>2023-08-16</td>\n",
       "      <td>Cris Parker</td>\n",
       "      <td>NaN</td>\n",
       "      <td>NaN</td>\n",
       "      <td>While I still like the film overall. Every MCU...</td>\n",
       "      <td>https://www.rottentomatoes.com/m/ant_man_and_t...</td>\n",
       "      <td>ant-man-and-the-wasp-quantumania</td>\n",
       "      <td>2023-10-21</td>\n",
       "      <td>0.0</td>\n",
       "      <td>rt_crit</td>\n",
       "      <td>2023-10-20</td>\n",
       "    </tr>\n",
       "    <tr>\n",
       "      <th>356179</th>\n",
       "      <td>3</td>\n",
       "      <td>2023-08-16</td>\n",
       "      <td>Sarah Vincent</td>\n",
       "      <td>NaN</td>\n",
       "      <td>NaN</td>\n",
       "      <td>the two-dimensional supporting characters and ...</td>\n",
       "      <td>https://www.rottentomatoes.com/m/ant_man_and_t...</td>\n",
       "      <td>ant-man-and-the-wasp-quantumania</td>\n",
       "      <td>2023-10-21</td>\n",
       "      <td>1.0</td>\n",
       "      <td>rt_crit</td>\n",
       "      <td>2023-10-20</td>\n",
       "    </tr>\n",
       "    <tr>\n",
       "      <th>356180</th>\n",
       "      <td>4</td>\n",
       "      <td>2023-08-09</td>\n",
       "      <td>Rick Bentley</td>\n",
       "      <td>NaN</td>\n",
       "      <td>NaN</td>\n",
       "      <td>The errors are easy to miss because the script...</td>\n",
       "      <td>https://www.rottentomatoes.com/m/ant_man_and_t...</td>\n",
       "      <td>ant-man-and-the-wasp-quantumania</td>\n",
       "      <td>2023-10-21</td>\n",
       "      <td>1.0</td>\n",
       "      <td>rt_crit</td>\n",
       "      <td>2023-10-20</td>\n",
       "    </tr>\n",
       "    <tr>\n",
       "      <th>...</th>\n",
       "      <td>...</td>\n",
       "      <td>...</td>\n",
       "      <td>...</td>\n",
       "      <td>...</td>\n",
       "      <td>...</td>\n",
       "      <td>...</td>\n",
       "      <td>...</td>\n",
       "      <td>...</td>\n",
       "      <td>...</td>\n",
       "      <td>...</td>\n",
       "      <td>...</td>\n",
       "      <td>...</td>\n",
       "    </tr>\n",
       "    <tr>\n",
       "      <th>369010</th>\n",
       "      <td>12834</td>\n",
       "      <td>2022-09-27</td>\n",
       "      <td>Marisa Mirabal</td>\n",
       "      <td>NaN</td>\n",
       "      <td>NaN</td>\n",
       "      <td>Utilizing elements of dark comedy, light roman...</td>\n",
       "      <td>https://www.rottentomatoes.com/m/werewolf_by_n...</td>\n",
       "      <td>werewolf-by-night</td>\n",
       "      <td>2023-10-21</td>\n",
       "      <td>0.0</td>\n",
       "      <td>rt_crit</td>\n",
       "      <td>2023-10-20</td>\n",
       "    </tr>\n",
       "    <tr>\n",
       "      <th>369011</th>\n",
       "      <td>12835</td>\n",
       "      <td>2022-09-26</td>\n",
       "      <td>Beau Paul</td>\n",
       "      <td>NaN</td>\n",
       "      <td>NaN</td>\n",
       "      <td>The film also reveals itself to be a perfectly...</td>\n",
       "      <td>https://www.rottentomatoes.com/m/werewolf_by_n...</td>\n",
       "      <td>werewolf-by-night</td>\n",
       "      <td>2023-10-21</td>\n",
       "      <td>0.0</td>\n",
       "      <td>rt_crit</td>\n",
       "      <td>2023-10-20</td>\n",
       "    </tr>\n",
       "    <tr>\n",
       "      <th>369012</th>\n",
       "      <td>12836</td>\n",
       "      <td>2022-09-26</td>\n",
       "      <td>Alan Cerny</td>\n",
       "      <td>NaN</td>\n",
       "      <td>NaN</td>\n",
       "      <td>I love how (Michael) Giacchino pays homage to ...</td>\n",
       "      <td>https://www.rottentomatoes.com/m/werewolf_by_n...</td>\n",
       "      <td>werewolf-by-night</td>\n",
       "      <td>2023-10-21</td>\n",
       "      <td>0.0</td>\n",
       "      <td>rt_crit</td>\n",
       "      <td>2023-10-20</td>\n",
       "    </tr>\n",
       "    <tr>\n",
       "      <th>369013</th>\n",
       "      <td>12837</td>\n",
       "      <td>2022-09-26</td>\n",
       "      <td>Kate Sánchez</td>\n",
       "      <td>NaN</td>\n",
       "      <td>NaN</td>\n",
       "      <td>Werewolf By Night is perfection and there is n...</td>\n",
       "      <td>https://www.rottentomatoes.com/m/werewolf_by_n...</td>\n",
       "      <td>werewolf-by-night</td>\n",
       "      <td>2023-10-21</td>\n",
       "      <td>0.0</td>\n",
       "      <td>rt_crit</td>\n",
       "      <td>2023-10-20</td>\n",
       "    </tr>\n",
       "    <tr>\n",
       "      <th>369014</th>\n",
       "      <td>12838</td>\n",
       "      <td>2022-09-26</td>\n",
       "      <td>Chris Evangelista</td>\n",
       "      <td>NaN</td>\n",
       "      <td>NaN</td>\n",
       "      <td>A fun monster movie homage from Marvel.</td>\n",
       "      <td>https://www.rottentomatoes.com/m/werewolf_by_n...</td>\n",
       "      <td>werewolf-by-night</td>\n",
       "      <td>2023-10-21</td>\n",
       "      <td>0.0</td>\n",
       "      <td>rt_crit</td>\n",
       "      <td>2023-10-20</td>\n",
       "    </tr>\n",
       "  </tbody>\n",
       "</table>\n",
       "<p>12839 rows × 12 columns</p>\n",
       "</div>"
      ],
      "text/plain": [
       "        index        date               user  score title  \\\n",
       "356176      0  2023-09-07   Jeffrey Peterson    NaN   NaN   \n",
       "356177      1  2023-08-23          Lee Zumpe    NaN   NaN   \n",
       "356178      2  2023-08-16        Cris Parker    NaN   NaN   \n",
       "356179      3  2023-08-16      Sarah Vincent    NaN   NaN   \n",
       "356180      4  2023-08-09       Rick Bentley    NaN   NaN   \n",
       "...       ...         ...                ...    ...   ...   \n",
       "369010  12834  2022-09-27     Marisa Mirabal    NaN   NaN   \n",
       "369011  12835  2022-09-26          Beau Paul    NaN   NaN   \n",
       "369012  12836  2022-09-26         Alan Cerny    NaN   NaN   \n",
       "369013  12837  2022-09-26       Kate Sánchez    NaN   NaN   \n",
       "369014  12838  2022-09-26  Chris Evangelista    NaN   NaN   \n",
       "\n",
       "                                                     text  \\\n",
       "356176  Ant-Man and the Wasp: Quantumania is a film th...   \n",
       "356177  It may feel like the director ordered a truckl...   \n",
       "356178  While I still like the film overall. Every MCU...   \n",
       "356179  the two-dimensional supporting characters and ...   \n",
       "356180  The errors are easy to miss because the script...   \n",
       "...                                                   ...   \n",
       "369010  Utilizing elements of dark comedy, light roman...   \n",
       "369011  The film also reveals itself to be a perfectly...   \n",
       "369012  I love how (Michael) Giacchino pays homage to ...   \n",
       "369013  Werewolf By Night is perfection and there is n...   \n",
       "369014            A fun monster movie homage from Marvel.   \n",
       "\n",
       "                                                      url  \\\n",
       "356176  https://www.rottentomatoes.com/m/ant_man_and_t...   \n",
       "356177  https://www.rottentomatoes.com/m/ant_man_and_t...   \n",
       "356178  https://www.rottentomatoes.com/m/ant_man_and_t...   \n",
       "356179  https://www.rottentomatoes.com/m/ant_man_and_t...   \n",
       "356180  https://www.rottentomatoes.com/m/ant_man_and_t...   \n",
       "...                                                   ...   \n",
       "369010  https://www.rottentomatoes.com/m/werewolf_by_n...   \n",
       "369011  https://www.rottentomatoes.com/m/werewolf_by_n...   \n",
       "369012  https://www.rottentomatoes.com/m/werewolf_by_n...   \n",
       "369013  https://www.rottentomatoes.com/m/werewolf_by_n...   \n",
       "369014  https://www.rottentomatoes.com/m/werewolf_by_n...   \n",
       "\n",
       "                                   movie scrape_date  is_rotten   source  \\\n",
       "356176  ant-man-and-the-wasp-quantumania  2023-10-21        0.0  rt_crit   \n",
       "356177  ant-man-and-the-wasp-quantumania  2023-10-21        0.0  rt_crit   \n",
       "356178  ant-man-and-the-wasp-quantumania  2023-10-21        0.0  rt_crit   \n",
       "356179  ant-man-and-the-wasp-quantumania  2023-10-21        1.0  rt_crit   \n",
       "356180  ant-man-and-the-wasp-quantumania  2023-10-21        1.0  rt_crit   \n",
       "...                                  ...         ...        ...      ...   \n",
       "369010                 werewolf-by-night  2023-10-21        0.0  rt_crit   \n",
       "369011                 werewolf-by-night  2023-10-21        0.0  rt_crit   \n",
       "369012                 werewolf-by-night  2023-10-21        0.0  rt_crit   \n",
       "369013                 werewolf-by-night  2023-10-21        0.0  rt_crit   \n",
       "369014                 werewolf-by-night  2023-10-21        0.0  rt_crit   \n",
       "\n",
       "       scrape date  \n",
       "356176  2023-10-20  \n",
       "356177  2023-10-20  \n",
       "356178  2023-10-20  \n",
       "356179  2023-10-20  \n",
       "356180  2023-10-20  \n",
       "...            ...  \n",
       "369010  2023-10-20  \n",
       "369011  2023-10-20  \n",
       "369012  2023-10-20  \n",
       "369013  2023-10-20  \n",
       "369014  2023-10-20  \n",
       "\n",
       "[12839 rows x 12 columns]"
      ]
     },
     "execution_count": 21,
     "metadata": {},
     "output_type": "execute_result"
    }
   ],
   "source": [
    "reviews2.query('source == \"rt_crit\"')"
   ]
  },
  {
   "cell_type": "code",
   "execution_count": 22,
   "metadata": {},
   "outputs": [
    {
     "name": "stdout",
     "output_type": "stream",
     "text": [
      "guardians-of-the-galaxy-vol.-3 0.8170426065162908\n",
      "spider-man-no-way-home 0.9280742459396751\n",
      "avengers-infinity-war 0.8516260162601625\n",
      "ant-man-and-the-wasp-quantumania 0.45721271393643037\n",
      "black-panther-wakanda-forever 0.8359550561797753\n",
      "thor-love-and-thunder 0.6292134831460674\n",
      "avengers-assemble 0.9100817438692098\n",
      "captain-marvel 0.7902350813743219\n",
      "doctor-strange-in-the-multiverse-of-madness 0.7358078602620087\n",
      "avengers-endgame 0.9388489208633094\n",
      "avengers-age-of-ultron 0.7592592592592593\n",
      "shang-chi-and-the-legend-of-the-ten-rings 0.9154518950437318\n",
      "iron-man 0.9357142857142857\n",
      "captain-america-civil-war 0.9069767441860466\n",
      "iron-man-2 0.7161716171617162\n",
      "spider-man-homecoming 0.92\n",
      "eternals 0.47215496368038745\n",
      "thor 0.7728813559322034\n",
      "thor-ragnarok 0.9318181818181819\n",
      "black-widow 0.7872807017543859\n",
      "guardians-of-the-galaxy-vol.-2 0.851764705882353\n",
      "thor-the-dark-world 0.6701388888888888\n",
      "spider-man-far-from-home 0.9041394335511983\n",
      "doctor-strange 0.8891752577319587\n",
      "iron-man-3 0.7945619335347431\n",
      "black-panther 0.9623352165725048\n",
      "the-incredible-hulk 0.6680672268907564\n",
      "ant-man 0.8323529411764706\n",
      "captain-america-the-first-avenger 0.7956204379562044\n",
      "guardians-of-the-galaxy 0.9174041297935103\n",
      "captain-america-the-winter-soldier 0.9006410256410257\n",
      "ant-man-and-the-wasp 0.87248322147651\n"
     ]
    }
   ],
   "source": [
    "crit_scores = []\n",
    "for i in df.movie_name:\n",
    "    df_revs = reviews2.query('source == \"rt_crit\" & movie == @i')\n",
    "    print(i, 1 - sum(df_revs['is_rotten'])/len(df_revs))\n",
    "    crit_scores.append(1 - sum(df_revs['is_rotten'])/len(df_revs))\n",
    "df['crit_score'] = crit_scores"
   ]
  },
  {
   "cell_type": "code",
   "execution_count": 23,
   "metadata": {},
   "outputs": [
    {
     "data": {
      "text/plain": [
       "0.419"
      ]
     },
     "execution_count": 23,
     "metadata": {},
     "output_type": "execute_result"
    }
   ],
   "source": [
    "round(stats.linregress(df['crit_score'], df['movie_revenue']).rvalue, 3)"
   ]
  },
  {
   "cell_type": "code",
   "execution_count": 110,
   "metadata": {},
   "outputs": [
    {
     "name": "stdout",
     "output_type": "stream",
     "text": [
      "Unnamed: 0 -16.249529975031283 -0.234 0.19722212034364905\n",
      "movie_budget -16.953572633353392 0.23 0.2059953954371242\n",
      "movie_revenue 0.5672716901154233 0.835 2.709670947745737e-09\n",
      "film_series -8.879396275101003 0.303 0.09164912331850256\n",
      "film_series_cluster -33.227848116979295 -0.168 0.3566435743622337\n",
      "cast_similarity -98.05800473910976 -0.1 0.5861741182002528\n",
      "1 -53.751273841019575 0.134 0.4649178070212442\n",
      "2 -441.54041794356624 -0.047 0.7963603296495513\n",
      "3 -213.30747648053273 -0.068 0.7109266565058263\n",
      "4 -17.041223212134412 -0.229 0.20707132639777265\n",
      "5 -8.178434019480807 -0.313 0.08065700681205243\n",
      "6 -3.07483638864994 -0.444 0.010927236770488269\n",
      "7 -3.222696696785601 -0.438 0.012261164117021094\n",
      "8 -4.619758700270778 -0.389 0.027919513236842004\n",
      "9 -15.218783957337575 0.241 0.18395100709665899\n",
      "10 -3.823581433756824 0.414 0.018375014029753677\n",
      "mean_score -15.431591400624725 0.24 0.18673293466151647\n",
      "median_score -5.243517743771886 0.372 0.036274314687183895\n",
      "crit_score -1.1155788064177705 0.567 0.0007238763822946857\n",
      "profit 0.6828830684963827 0.871 8.69542638589812e-11\n",
      "profit_ratio 1.0 1.0 0.0\n",
      "score>9 -3.430775312566092 0.429 0.014256896727189446\n",
      "var -52.77364268086989 0.135 0.46092419411177654\n"
     ]
    }
   ],
   "source": [
    "linear = {}\n",
    "exp = {}\n",
    "pearsons = {}\n",
    "for i in df.columns:\n",
    "    try:\n",
    "        mymodel = np.poly1d(np.polyfit(df[i], df['profit_ratio'], 2))\n",
    "        linear[i] = round(stats.linregress(df[i], df['profit_ratio']).rvalue, 3)\n",
    "        linearmodel = np.poly1d(np.polyfit(df[i], df['profit_ratio'], 1))\n",
    "        exp[i] = round(r2_score(df['profit_ratio'], mymodel(df[i])), 3)\n",
    "        # print(i,round(stats.linregress(df[i], df['movie_revenue']).rvalue, 3), round(r2_score(df['movie_revenue'], mymodel(df[i])), 3))\n",
    "        pearson = stats.pearsonr(df[i], df['profit_ratio'])\n",
    "        pearsons[i] = round(pearson.pvalue, 10)\n",
    "        print(i, r2_score(linearmodel(df[i]), df['profit_ratio']),  round(pearson.statistic, 3), pearson.pvalue)\n",
    "    except:\n",
    "        continue"
   ]
  },
  {
   "cell_type": "code",
   "execution_count": 118,
   "metadata": {},
   "outputs": [
    {
     "name": "stdout",
     "output_type": "stream",
     "text": [
      "Unnamed: 0 0.175 ('Pearson:-0.418', 'Pvalue: 0.017154444548819602')\n",
      "movie_name error\n",
      "imdb_id error\n",
      "release_date error\n",
      "cast error\n",
      "direction error\n",
      "production_companies error\n",
      "movie_budget 0.477 ('Pearson:0.69', 'Pvalue: 1.2264720528786353e-05')\n",
      "movie_revenue 1.0 ('Pearson:1.0', 'Pvalue: 0.0')\n",
      "film_series 0.112 ('Pearson:0.335', 'Pvalue: 0.06125124938636523')\n",
      "film_series_cluster 0.128 ('Pearson:-0.358', 'Pvalue: 0.0439971981830454')\n",
      "cast_similarity 0.027 ('Pearson:-0.165', 'Pvalue: 0.3662485356620292')\n",
      "1 0.008 ('Pearson:0.091', 'Pvalue: 0.6193893071276795')\n",
      "2 0.003 ('Pearson:-0.056', 'Pvalue: 0.7589474588123324')\n",
      "3 0.006 ('Pearson:-0.076', 'Pvalue: 0.677795392159194')\n",
      "4 0.05 ('Pearson:-0.223', 'Pvalue: 0.22003438559101737')\n",
      "5 0.083 ('Pearson:-0.289', 'Pvalue: 0.10905897086610133')\n",
      "6 0.175 ('Pearson:-0.419', 'Pvalue: 0.017118334513600335')\n",
      "7 0.223 ('Pearson:-0.472', 'Pvalue: 0.006385507249669034')\n",
      "8 0.255 ('Pearson:-0.505', 'Pvalue: 0.0032009830231238445')\n",
      "9 0.029 ('Pearson:0.169', 'Pvalue: 0.3544562040254968')\n",
      "10 0.249 ('Pearson:0.499', 'Pvalue: 0.0036699744123399056')\n",
      "mean_score 0.078 ('Pearson:0.279', 'Pvalue: 0.12211372429507565')\n",
      "median_score 0.221 ('Pearson:0.47', 'Pvalue: 0.006631607753129485')\n",
      "crit_score 0.176 ('Pearson:0.419', 'Pvalue: 0.016932703712724935')\n",
      "profit 0.994 ('Pearson:0.997', 'Pvalue: 2.1296285564723967e-34')\n",
      "profit_ratio 0.698 ('Pearson:0.835', 'Pvalue: 2.709670947745737e-09')\n",
      "score>9 0.233 ('Pearson:0.483', 'Pvalue: 0.005108547930534451')\n",
      "var 0.028 ('Pearson:0.167', 'Pvalue: 0.3602126906661846')\n"
     ]
    }
   ],
   "source": [
    "def rsquare(df, x, y):\n",
    "    model = LinearRegression()\n",
    "    model.fit(df[[x]], df[y])\n",
    "    return model.score(df[[x]], df[y])\n",
    "def pearson_correlation(df, x, y):\n",
    "    return f'Pearson:{round(stats.pearsonr(df[x], df[y]).statistic, 3)}', f'Pvalue: {stats.pearsonr(df[x], df[y]).pvalue}'\n",
    "for i in df.columns:\n",
    "    try:\n",
    "        print(i,round(rsquare(df, i, 'movie_revenue'), 3), pearson_correlation(df, i, 'movie_revenue'))\n",
    "    except:\n",
    "        print(i, 'error')\n",
    "        continue"
   ]
  },
  {
   "cell_type": "code",
   "execution_count": 119,
   "metadata": {},
   "outputs": [
    {
     "name": "stdout",
     "output_type": "stream",
     "text": [
      "Unnamed: 0 0.055 ('Pearson:-0.234', 'Pvalue: 0.19722212034364905')\n",
      "movie_name error\n",
      "imdb_id error\n",
      "release_date error\n",
      "cast error\n",
      "direction error\n",
      "production_companies error\n",
      "movie_budget 0.053 ('Pearson:0.23', 'Pvalue: 0.2059953954371242')\n",
      "movie_revenue 0.698 ('Pearson:0.835', 'Pvalue: 2.709670947745737e-09')\n",
      "film_series 0.092 ('Pearson:0.303', 'Pvalue: 0.09164912331850256')\n",
      "film_series_cluster 0.028 ('Pearson:-0.168', 'Pvalue: 0.3566435743622337')\n",
      "cast_similarity 0.01 ('Pearson:-0.1', 'Pvalue: 0.5861741182002528')\n",
      "1 0.018 ('Pearson:0.134', 'Pvalue: 0.4649178070212442')\n",
      "2 0.002 ('Pearson:-0.047', 'Pvalue: 0.7963603296495513')\n",
      "3 0.005 ('Pearson:-0.068', 'Pvalue: 0.7109266565058263')\n",
      "4 0.053 ('Pearson:-0.229', 'Pvalue: 0.20707132639777265')\n",
      "5 0.098 ('Pearson:-0.313', 'Pvalue: 0.08065700681205243')\n",
      "6 0.197 ('Pearson:-0.444', 'Pvalue: 0.010927236770488269')\n",
      "7 0.191 ('Pearson:-0.438', 'Pvalue: 0.012261164117021094')\n",
      "8 0.151 ('Pearson:-0.389', 'Pvalue: 0.027919513236842004')\n",
      "9 0.058 ('Pearson:0.241', 'Pvalue: 0.18395100709665899')\n",
      "10 0.172 ('Pearson:0.414', 'Pvalue: 0.018375014029753677')\n",
      "mean_score 0.057 ('Pearson:0.24', 'Pvalue: 0.18673293466151647')\n",
      "median_score 0.138 ('Pearson:0.372', 'Pvalue: 0.036274314687183895')\n",
      "crit_score 0.321 ('Pearson:0.567', 'Pvalue: 0.0007238763822946857')\n",
      "profit 0.759 ('Pearson:0.871', 'Pvalue: 8.69542638589812e-11')\n",
      "profit_ratio 1.0 ('Pearson:1.0', 'Pvalue: 0.0')\n",
      "score>9 0.184 ('Pearson:0.429', 'Pvalue: 0.014256896727189446')\n",
      "var 0.018 ('Pearson:0.135', 'Pvalue: 0.46092419411177654')\n"
     ]
    }
   ],
   "source": [
    "def rsquare(df, x, y):\n",
    "    model = LinearRegression()\n",
    "    model.fit(df[[x]], df[y])\n",
    "    return model.score(df[[x]], df[y])\n",
    "def pearson_correlation(df, x, y):\n",
    "    return f'Pearson:{round(stats.pearsonr(df[x], df[y]).statistic, 3)}', f'Pvalue: {stats.pearsonr(df[x], df[y]).pvalue}'\n",
    "for i in df.columns:\n",
    "    try:\n",
    "        print(i,round(rsquare(df, i, 'profit_ratio'), 3), pearson_correlation(df, i, 'profit_ratio'))\n",
    "    except:\n",
    "        print(i, 'error')\n",
    "        continue"
   ]
  },
  {
   "cell_type": "code",
   "execution_count": 112,
   "metadata": {},
   "outputs": [],
   "source": [
    "df.drop(columns=['Unnamed: 0']).to_csv('../data/plot_data/graph_data.csv')"
   ]
  },
  {
   "cell_type": "code",
   "execution_count": 113,
   "metadata": {},
   "outputs": [
    {
     "data": {
      "text/plain": [
       "[('2', 0.002),\n",
       " ('3', 0.01),\n",
       " ('1', 0.018),\n",
       " ('film_series_cluster', 0.031),\n",
       " ('movie_budget', 0.053),\n",
       " ('4', 0.071),\n",
       " ('var', 0.073),\n",
       " ('Unnamed: 0', 0.076),\n",
       " ('cast_similarity', 0.109),\n",
       " ('mean_score', 0.118),\n",
       " ('9', 0.126),\n",
       " ('5', 0.146),\n",
       " ('median_score', 0.171),\n",
       " ('8', 0.174),\n",
       " ('score>9', 0.187),\n",
       " ('6', 0.2),\n",
       " ('7', 0.2),\n",
       " ('10', 0.204),\n",
       " ('film_series', 0.239),\n",
       " ('crit_score', 0.349),\n",
       " ('movie_revenue', 0.775),\n",
       " ('profit', 0.839),\n",
       " ('profit_ratio', 1.0)]"
      ]
     },
     "execution_count": 113,
     "metadata": {},
     "output_type": "execute_result"
    }
   ],
   "source": [
    "[i for i in sorted(exp.items(), key = lambda x : x[1])]"
   ]
  },
  {
   "cell_type": "code",
   "execution_count": 114,
   "metadata": {},
   "outputs": [
    {
     "data": {
      "text/plain": [
       "[('6', -0.444),\n",
       " ('7', -0.438),\n",
       " ('8', -0.389),\n",
       " ('5', -0.313),\n",
       " ('Unnamed: 0', -0.234),\n",
       " ('4', -0.229),\n",
       " ('film_series_cluster', -0.168),\n",
       " ('cast_similarity', -0.1),\n",
       " ('3', -0.068),\n",
       " ('2', -0.047),\n",
       " ('1', 0.134),\n",
       " ('var', 0.135),\n",
       " ('movie_budget', 0.23),\n",
       " ('mean_score', 0.24),\n",
       " ('9', 0.241),\n",
       " ('film_series', 0.303),\n",
       " ('median_score', 0.372),\n",
       " ('10', 0.414),\n",
       " ('score>9', 0.429),\n",
       " ('crit_score', 0.567),\n",
       " ('movie_revenue', 0.835),\n",
       " ('profit', 0.871),\n",
       " ('profit_ratio', 1.0)]"
      ]
     },
     "execution_count": 114,
     "metadata": {},
     "output_type": "execute_result"
    }
   ],
   "source": [
    "[i for i in sorted(linear.items(), key = lambda x : x[1])]"
   ]
  },
  {
   "cell_type": "code",
   "execution_count": 102,
   "metadata": {},
   "outputs": [
    {
     "data": {
      "text/plain": [
       "[('profit_ratio', 0.0),\n",
       " ('profit', 1e-10),\n",
       " ('movie_revenue', 2.7e-09),\n",
       " ('crit_score', 0.0007238764),\n",
       " ('6', 0.0109272368),\n",
       " ('7', 0.0122611641),\n",
       " ('score>9', 0.0142568967),\n",
       " ('10', 0.018375014),\n",
       " ('8', 0.0279195132),\n",
       " ('median_score', 0.0362743147),\n",
       " ('5', 0.0806570068),\n",
       " ('film_series', 0.0916491233),\n",
       " ('9', 0.1839510071),\n",
       " ('mean_score', 0.1867329347),\n",
       " ('Unnamed: 0', 0.1972221203),\n",
       " ('movie_budget', 0.2059953954),\n",
       " ('4', 0.2070713264),\n",
       " ('film_series_cluster', 0.3566435744),\n",
       " ('1', 0.464917807),\n",
       " ('cast_similarity', 0.5861741182),\n",
       " ('3', 0.7109266565),\n",
       " ('2', 0.7963603296)]"
      ]
     },
     "execution_count": 102,
     "metadata": {},
     "output_type": "execute_result"
    }
   ],
   "source": [
    "[i for i in sorted(pearsons.items(), key = lambda x : x[1])]"
   ]
  },
  {
   "cell_type": "code",
   "execution_count": 103,
   "metadata": {},
   "outputs": [],
   "source": [
    "df['profit'] = df['movie_revenue'] - df['movie_budget']\n",
    "df['profit_ratio'] = df['movie_revenue'] / df['movie_budget']\n",
    "df['score>9'] = df['9'] + df['10']\n",
    "df['var'] = vars"
   ]
  },
  {
   "cell_type": "code",
   "execution_count": 104,
   "metadata": {},
   "outputs": [
    {
     "name": "stdout",
     "output_type": "stream",
     "text": [
      "guardians-of-the-galaxy-vol.-3 5.51009996228732\n",
      "spider-man-no-way-home 5.983903633383806\n",
      "avengers-infinity-war 5.901246342748137\n",
      "ant-man-and-the-wasp-quantumania 8.1935040758122\n",
      "black-panther-wakanda-forever 8.34418748247638\n",
      "thor-love-and-thunder 9.718474470873188\n",
      "avengers-assemble 4.047446136307329\n",
      "captain-marvel 10.755065361185894\n",
      "doctor-strange-in-the-multiverse-of-madness 8.86804169317719\n",
      "avengers-endgame 6.525024147570844\n",
      "avengers-age-of-ultron 4.477535436380139\n",
      "shang-chi-and-the-legend-of-the-ten-rings 3.8629906758624655\n",
      "iron-man 2.8154668231042357\n",
      "captain-america-civil-war 5.697882741833084\n",
      "iron-man-2 3.7096671027001413\n",
      "spider-man-homecoming 5.904446142290071\n",
      "eternals 10.492012336283507\n",
      "thor 3.8545629261542413\n",
      "thor-ragnarok 6.775595670618612\n",
      "black-widow 7.338893033512129\n",
      "guardians-of-the-galaxy-vol.-2 4.888359342629316\n",
      "thor-the-dark-world 4.172059094815926\n",
      "spider-man-far-from-home 5.312356376162696\n",
      "doctor-strange 4.26075165062527\n",
      "iron-man-3 5.517477485969894\n",
      "black-panther 9.33305185079492\n",
      "the-incredible-hulk 3.697170640819327\n",
      "ant-man 3.0402250200536587\n",
      "captain-america-the-first-avenger 3.9490010306602814\n",
      "guardians-of-the-galaxy 3.988235944635457\n",
      "captain-america-the-winter-soldier 2.5742071356759824\n",
      "ant-man-and-the-wasp 4.7424566378644775\n"
     ]
    }
   ],
   "source": [
    "vars = []\n",
    "for i in df.movie_name:\n",
    "    var = reviews.query('movie == @i').score.var()\n",
    "    print(i, var)\n",
    "    vars.append(var)"
   ]
  },
  {
   "cell_type": "code",
   "execution_count": 64,
   "metadata": {},
   "outputs": [],
   "source": [
    "df.to_csv('../data/processed/movie_stats/movie_stats_clustered.csv')"
   ]
  },
  {
   "cell_type": "code",
   "execution_count": 61,
   "metadata": {},
   "outputs": [
    {
     "data": {
      "text/plain": [
       "[1.0914138266666666,\n",
       " 1.898755655,\n",
       " 2.010324495,\n",
       " 2.3803559,\n",
       " 2.646926957142857,\n",
       " 2.881621946666667,\n",
       " 2.995510786666667,\n",
       " 3.043712324,\n",
       " 3.119666655,\n",
       " 3.381721208,\n",
       " 3.436408616,\n",
       " 3.757462077777778,\n",
       " 3.792842,\n",
       " 3.8504210794520546,\n",
       " 3.9947074230769233,\n",
       " 4.179815871428572,\n",
       " 4.204509247058824,\n",
       " 4.318780255,\n",
       " 4.447672421428571,\n",
       " 4.545744705882353,\n",
       " 4.620185664,\n",
       " 4.7516767,\n",
       " 4.77887902,\n",
       " 5.02952528,\n",
       " 6.077886025,\n",
       " 6.749630415,\n",
       " 6.841383463333333,\n",
       " 6.903706886363636,\n",
       " 7.074549975,\n",
       " 7.44352925,\n",
       " 7.865168539325842,\n",
       " 9.609235555]"
      ]
     },
     "execution_count": 61,
     "metadata": {},
     "output_type": "execute_result"
    }
   ],
   "source": [
    "sorted(df['movie_revenue']/df['movie_budget'])"
   ]
  },
  {
   "cell_type": "code",
   "execution_count": 116,
   "metadata": {},
   "outputs": [
    {
     "data": {
      "text/plain": [
       "<Axes: xlabel='score', ylabel='Count'>"
      ]
     },
     "execution_count": 116,
     "metadata": {},
     "output_type": "execute_result"
    },
    {
     "data": {
      "image/png": "[encoded data removed]",
      "text/plain": [
       "<Figure size 640x480 with 1 Axes>"
      ]
     },
     "metadata": {},
     "output_type": "display_data"
    }
   ],
   "source": [
    "sns.histplot(reviews.score)"
   ]
  },
  {
   "cell_type": "code",
   "execution_count": null,
   "metadata": {},
   "outputs": [],
   "source": []
  }
 ],
 "metadata": {
  "kernelspec": {
   "display_name": "data_wrangling",
   "language": "python",
   "name": "python3"
  },
  "language_info": {
   "codemirror_mode": {
    "name": "ipython",
    "version": 3
   },
   "file_extension": ".py",
   "mimetype": "text/x-python",
   "name": "python",
   "nbconvert_exporter": "python",
   "pygments_lexer": "ipython3",
   "version": "3.11.4"
  }
 },
 "nbformat": 4,
 "nbformat_minor": 2
}
