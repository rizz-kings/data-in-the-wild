{
 "cells": [
  {
   "cell_type": "code",
   "execution_count": 1,
   "metadata": {},
   "outputs": [],
   "source": [
    "import tmdbsimple as tmdb\n",
    "tmdb.API_KEY = '181cade2ad3f7162ef06b83dd94c0983'"
   ]
  },
  {
   "cell_type": "code",
   "execution_count": 2,
   "metadata": {},
   "outputs": [
    {
     "data": {
      "text/plain": [
       "{'adult': False,\n",
       " 'backdrop_path': '/9BBTo63ANSmhC4e6r62OJFuK2GL.jpg',\n",
       " 'belongs_to_collection': {'id': 86311,\n",
       "  'name': 'The Avengers Collection',\n",
       "  'poster_path': '/yFSIUVTCvgYrpalUktulvk3Gi5Y.jpg',\n",
       "  'backdrop_path': '/zuW6fOiusv4X9nnW3paHGfXcSll.jpg'},\n",
       " 'budget': 220000000,\n",
       " 'genres': [{'id': 878, 'name': 'Science Fiction'},\n",
       "  {'id': 28, 'name': 'Action'},\n",
       "  {'id': 12, 'name': 'Adventure'}],\n",
       " 'homepage': 'https://www.marvel.com/movies/the-avengers',\n",
       " 'id': 24428,\n",
       " 'imdb_id': 'tt0848228',\n",
       " 'original_language': 'en',\n",
       " 'original_title': 'The Avengers',\n",
       " 'overview': 'When an unexpected enemy emerges and threatens global safety and security, Nick Fury, director of the international peacekeeping agency known as S.H.I.E.L.D., finds himself in need of a team to pull the world back from the brink of disaster. Spanning the globe, a daring recruitment effort begins!',\n",
       " 'popularity': 97.565,\n",
       " 'poster_path': '/RYMX2wcKCBAr24UyPD7xwmjaTn.jpg',\n",
       " 'production_companies': [{'id': 420,\n",
       "   'logo_path': '/hUzeosd33nzE5MCNsZxCGEKTXaQ.png',\n",
       "   'name': 'Marvel Studios',\n",
       "   'origin_country': 'US'}],\n",
       " 'production_countries': [{'iso_3166_1': 'US',\n",
       "   'name': 'United States of America'}],\n",
       " 'release_date': '2012-04-25',\n",
       " 'revenue': 1518815515,\n",
       " 'runtime': 143,\n",
       " 'spoken_languages': [{'english_name': 'English',\n",
       "   'iso_639_1': 'en',\n",
       "   'name': 'English'},\n",
       "  {'english_name': 'Hindi', 'iso_639_1': 'hi', 'name': 'हिन्दी'},\n",
       "  {'english_name': 'Russian', 'iso_639_1': 'ru', 'name': 'Pусский'}],\n",
       " 'status': 'Released',\n",
       " 'tagline': 'Some assembly required.',\n",
       " 'title': 'The Avengers',\n",
       " 'video': False,\n",
       " 'vote_average': 7.71,\n",
       " 'vote_count': 29232}"
      ]
     },
     "execution_count": 2,
     "metadata": {},
     "output_type": "execute_result"
    }
   ],
   "source": [
    "movie_example = tmdb.Movies(\"tt0848228\")\n",
    "response = movie_example.info()\n",
    "response"
   ]
  },
  {
   "cell_type": "code",
   "execution_count": 10,
   "metadata": {},
   "outputs": [
    {
     "name": "stdout",
     "output_type": "stream",
     "text": [
      "The Avengers 220000000 1518815515\n"
     ]
    }
   ],
   "source": [
    "print(movie_example.original_title, movie_example.budget, movie_example.revenue)"
   ]
  },
  {
   "cell_type": "code",
   "execution_count": 7,
   "metadata": {},
   "outputs": [
    {
     "data": {
      "text/plain": [
       "{'id': 24428,\n",
       " 'page': 2,\n",
       " 'results': [{'description': 'Master List In Progress',\n",
       "   'favorite_count': 0,\n",
       "   'id': 51108,\n",
       "   'item_count': 10001,\n",
       "   'iso_639_1': 'en',\n",
       "   'list_type': 'movie',\n",
       "   'name': 'My Movies',\n",
       "   'poster_path': None},\n",
       "  {'description': '',\n",
       "   'favorite_count': 0,\n",
       "   'id': 8205355,\n",
       "   'item_count': 98,\n",
       "   'iso_639_1': 'en',\n",
       "   'list_type': 'movie',\n",
       "   'name': '***SCI-FI***',\n",
       "   'poster_path': None},\n",
       "  {'description': 'Completed',\n",
       "   'favorite_count': 0,\n",
       "   'id': 58462,\n",
       "   'item_count': 1326,\n",
       "   'iso_639_1': 'es',\n",
       "   'list_type': 'movie',\n",
       "   'name': 'Movies Completed',\n",
       "   'poster_path': None},\n",
       "  {'description': '',\n",
       "   'favorite_count': 0,\n",
       "   'id': 7101262,\n",
       "   'item_count': 2922,\n",
       "   'iso_639_1': 'en',\n",
       "   'list_type': 'movie',\n",
       "   'name': 'Movies to watch',\n",
       "   'poster_path': None},\n",
       "  {'description': '',\n",
       "   'favorite_count': 0,\n",
       "   'id': 8218341,\n",
       "   'item_count': 1000,\n",
       "   'iso_639_1': 'en',\n",
       "   'list_type': 'movie',\n",
       "   'name': 'Watched',\n",
       "   'poster_path': None},\n",
       "  {'description': '',\n",
       "   'favorite_count': 0,\n",
       "   'id': 8253456,\n",
       "   'item_count': 429,\n",
       "   'iso_639_1': 'pt',\n",
       "   'list_type': 'movie',\n",
       "   'name': 'Assistidos',\n",
       "   'poster_path': None},\n",
       "  {'description': 'HTM founder favorites',\n",
       "   'favorite_count': 0,\n",
       "   'id': 8259538,\n",
       "   'item_count': 464,\n",
       "   'iso_639_1': 'en',\n",
       "   'list_type': 'movie',\n",
       "   'name': 'Founders Favorites',\n",
       "   'poster_path': None},\n",
       "  {'description': 'List of Movies ',\n",
       "   'favorite_count': 0,\n",
       "   'id': 8274571,\n",
       "   'item_count': 59,\n",
       "   'iso_639_1': 'en',\n",
       "   'list_type': 'movie',\n",
       "   'name': 'Movies',\n",
       "   'poster_path': None},\n",
       "  {'description': \"Liste des films présents sur le Gros Nuage. Il n'y a pas de lien vers le canal, il faut faire une recherche manuelle.\",\n",
       "   'favorite_count': 0,\n",
       "   'id': 7110743,\n",
       "   'item_count': 520,\n",
       "   'iso_639_1': 'fr',\n",
       "   'list_type': 'movie',\n",
       "   'name': 'Films du Gros Nuage',\n",
       "   'poster_path': None},\n",
       "  {'description': '',\n",
       "   'favorite_count': 0,\n",
       "   'id': 8238235,\n",
       "   'item_count': 4462,\n",
       "   'iso_639_1': 'en',\n",
       "   'list_type': 'movie',\n",
       "   'name': 'My Movie Library',\n",
       "   'poster_path': None},\n",
       "  {'description': 'Vari',\n",
       "   'favorite_count': 0,\n",
       "   'id': 137511,\n",
       "   'item_count': 352,\n",
       "   'iso_639_1': 'en',\n",
       "   'list_type': 'movie',\n",
       "   'name': 'Film esteri',\n",
       "   'poster_path': None},\n",
       "  {'description': \"All movies and shows I've seen\",\n",
       "   'favorite_count': 0,\n",
       "   'id': 7111094,\n",
       "   'item_count': 2959,\n",
       "   'iso_639_1': 'en',\n",
       "   'list_type': 'movie',\n",
       "   'name': \"Movies I've seen\",\n",
       "   'poster_path': None},\n",
       "  {'description': 'everything I finished watching',\n",
       "   'favorite_count': 0,\n",
       "   'id': 8271831,\n",
       "   'item_count': 657,\n",
       "   'iso_639_1': 'en',\n",
       "   'list_type': 'movie',\n",
       "   'name': 'Finished',\n",
       "   'poster_path': None},\n",
       "  {'description': \"All the Great Movies I've Watched So Far\",\n",
       "   'favorite_count': 0,\n",
       "   'id': 7092449,\n",
       "   'item_count': 705,\n",
       "   'iso_639_1': 'en',\n",
       "   'list_type': 'movie',\n",
       "   'name': 'Watched Movies',\n",
       "   'poster_path': None},\n",
       "  {'description': 'Peliculas que ya he visto',\n",
       "   'favorite_count': 0,\n",
       "   'id': 88225,\n",
       "   'item_count': 1383,\n",
       "   'iso_639_1': 'es',\n",
       "   'list_type': 'movie',\n",
       "   'name': 'Peliculas Vistas',\n",
       "   'poster_path': None},\n",
       "  {'description': '',\n",
       "   'favorite_count': 0,\n",
       "   'id': 88512,\n",
       "   'item_count': 730,\n",
       "   'iso_639_1': 'es',\n",
       "   'list_type': 'movie',\n",
       "   'name': 'Películas favoritas',\n",
       "   'poster_path': None},\n",
       "  {'description': 'Películas que ya he visto. \\n\\n',\n",
       "   'favorite_count': 0,\n",
       "   'id': 12553,\n",
       "   'item_count': 2541,\n",
       "   'iso_639_1': 'es',\n",
       "   'list_type': 'movie',\n",
       "   'name': 'Películas vistas',\n",
       "   'poster_path': None},\n",
       "  {'description': 'Movies I own physically & digitally. ',\n",
       "   'favorite_count': 0,\n",
       "   'id': 8222491,\n",
       "   'item_count': 1118,\n",
       "   'iso_639_1': 'en',\n",
       "   'list_type': 'movie',\n",
       "   'name': 'Owned Movies',\n",
       "   'poster_path': None},\n",
       "  {'description': '',\n",
       "   'favorite_count': 0,\n",
       "   'id': 134725,\n",
       "   'item_count': 870,\n",
       "   'iso_639_1': 'en',\n",
       "   'list_type': 'movie',\n",
       "   'name': 'Watched Movies',\n",
       "   'poster_path': None},\n",
       "  {'description': '',\n",
       "   'favorite_count': 0,\n",
       "   'id': 145624,\n",
       "   'item_count': 916,\n",
       "   'iso_639_1': 'de',\n",
       "   'list_type': 'movie',\n",
       "   'name': 'Filme',\n",
       "   'poster_path': None}],\n",
       " 'total_pages': 145,\n",
       " 'total_results': 2888}"
      ]
     },
     "execution_count": 7,
     "metadata": {},
     "output_type": "execute_result"
    }
   ],
   "source": [
    "movie_example.lists(page=2)"
   ]
  },
  {
   "cell_type": "code",
   "execution_count": 15,
   "metadata": {},
   "outputs": [
    {
     "data": {
      "text/plain": [
       "{'id': 24428,\n",
       " 'keywords': [{'id': 242, 'name': 'new york city'},\n",
       "  {'id': 5539, 'name': 'shield'},\n",
       "  {'id': 9715, 'name': 'superhero'},\n",
       "  {'id': 9717, 'name': 'based on comic'},\n",
       "  {'id': 14909, 'name': 'alien invasion'},\n",
       "  {'id': 155030, 'name': 'superhero team'},\n",
       "  {'id': 179430, 'name': 'aftercreditsstinger'},\n",
       "  {'id': 179431, 'name': 'duringcreditsstinger'},\n",
       "  {'id': 180547, 'name': 'marvel cinematic universe (mcu)'}]}"
      ]
     },
     "execution_count": 15,
     "metadata": {},
     "output_type": "execute_result"
    }
   ],
   "source": [
    "movie_example.keywords()"
   ]
  },
  {
   "cell_type": "code",
   "execution_count": 5,
   "metadata": {},
   "outputs": [],
   "source": [
    "from json import loads, dumps\n",
    "json_object = dumps(response, indent=4)"
   ]
  },
  {
   "cell_type": "code",
   "execution_count": 6,
   "metadata": {},
   "outputs": [],
   "source": [
    "with open(\"api_example.json\", \"w\") as outfile:\n",
    "    outfile.write(json_object)"
   ]
  },
  {
   "cell_type": "code",
   "execution_count": null,
   "metadata": {},
   "outputs": [],
   "source": []
  }
 ],
 "metadata": {
  "kernelspec": {
   "display_name": "data-in-wild",
   "language": "python",
   "name": "python3"
  },
  "language_info": {
   "codemirror_mode": {
    "name": "ipython",
    "version": 3
   },
   "file_extension": ".py",
   "mimetype": "text/x-python",
   "name": "python",
   "nbconvert_exporter": "python",
   "pygments_lexer": "ipython3",
   "version": "3.8.5"
  }
 },
 "nbformat": 4,
 "nbformat_minor": 2
}
