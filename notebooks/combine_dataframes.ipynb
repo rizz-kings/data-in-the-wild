{
 "cells": [
  {
   "cell_type": "code",
   "execution_count": 84,
   "metadata": {},
   "outputs": [],
   "source": [
    "!pip3 freeze > requirements.txt"
   ]
  },
  {
   "cell_type": "code",
   "execution_count": 68,
   "metadata": {},
   "outputs": [
    {
     "name": "stdout",
     "output_type": "stream",
     "text": [
      "Collecting seaborn\n",
      "  Obtaining dependency information for seaborn from https://files.pythonhosted.org/packages/7b/e5/83fcd7e9db036c179e0352bfcd20f81d728197a16f883e7b90307a88e65e/seaborn-0.13.0-py3-none-any.whl.metadata\n",
      "  Downloading seaborn-0.13.0-py3-none-any.whl.metadata (5.3 kB)\n",
      "Requirement already satisfied: numpy!=1.24.0,>=1.20 in /Users/christianrasmussen/opt/miniconda3/envs/data_wrangling/lib/python3.11/site-packages (from seaborn) (1.26.1)\n",
      "Requirement already satisfied: pandas>=1.2 in /Users/christianrasmussen/opt/miniconda3/envs/data_wrangling/lib/python3.11/site-packages (from seaborn) (2.1.1)\n",
      "Collecting matplotlib!=3.6.1,>=3.3 (from seaborn)\n",
      "  Obtaining dependency information for matplotlib!=3.6.1,>=3.3 from https://files.pythonhosted.org/packages/33/ee/e87d7a79a32f5ac833655ef29ebd37c7b389e8957bc71aacb10a95f822b9/matplotlib-3.8.0-cp311-cp311-macosx_10_12_x86_64.whl.metadata\n",
      "  Using cached matplotlib-3.8.0-cp311-cp311-macosx_10_12_x86_64.whl.metadata (5.8 kB)\n",
      "Collecting contourpy>=1.0.1 (from matplotlib!=3.6.1,>=3.3->seaborn)\n",
      "  Obtaining dependency information for contourpy>=1.0.1 from https://files.pythonhosted.org/packages/8b/4f/be28a39cd5e988b8d3c2cc642c2c7ffeeb28fe80a86df71b6d1e473c5038/contourpy-1.1.1-cp311-cp311-macosx_10_9_x86_64.whl.metadata\n",
      "  Using cached contourpy-1.1.1-cp311-cp311-macosx_10_9_x86_64.whl.metadata (5.9 kB)\n",
      "Collecting cycler>=0.10 (from matplotlib!=3.6.1,>=3.3->seaborn)\n",
      "  Obtaining dependency information for cycler>=0.10 from https://files.pythonhosted.org/packages/e7/05/c19819d5e3d95294a6f5947fb9b9629efb316b96de511b418c53d245aae6/cycler-0.12.1-py3-none-any.whl.metadata\n",
      "  Downloading cycler-0.12.1-py3-none-any.whl.metadata (3.8 kB)\n",
      "Collecting fonttools>=4.22.0 (from matplotlib!=3.6.1,>=3.3->seaborn)\n",
      "  Obtaining dependency information for fonttools>=4.22.0 from https://files.pythonhosted.org/packages/89/17/a8c8e905a618302f4bd702a9a91910a36edd5b0ece7dd63e2e6c23641d76/fonttools-4.43.1-cp311-cp311-macosx_10_9_x86_64.whl.metadata\n",
      "  Downloading fonttools-4.43.1-cp311-cp311-macosx_10_9_x86_64.whl.metadata (152 kB)\n",
      "\u001b[2K     \u001b[90m━━━━━━━━━━━━━━━━━━━━━━━━━━━━━━━━━━━━━━━\u001b[0m \u001b[32m152.4/152.4 kB\u001b[0m \u001b[31m3.1 MB/s\u001b[0m eta \u001b[36m0:00:00\u001b[0ma \u001b[36m0:00:01\u001b[0m\n",
      "\u001b[?25hCollecting kiwisolver>=1.0.1 (from matplotlib!=3.6.1,>=3.3->seaborn)\n",
      "  Obtaining dependency information for kiwisolver>=1.0.1 from https://files.pythonhosted.org/packages/a6/94/695922e71288855fc7cace3bdb52edda9d7e50edba77abb0c9d7abb51e96/kiwisolver-1.4.5-cp311-cp311-macosx_10_9_x86_64.whl.metadata\n",
      "  Using cached kiwisolver-1.4.5-cp311-cp311-macosx_10_9_x86_64.whl.metadata (6.4 kB)\n",
      "Requirement already satisfied: packaging>=20.0 in /Users/christianrasmussen/opt/miniconda3/envs/data_wrangling/lib/python3.11/site-packages (from matplotlib!=3.6.1,>=3.3->seaborn) (23.1)\n",
      "Collecting pillow>=6.2.0 (from matplotlib!=3.6.1,>=3.3->seaborn)\n",
      "  Obtaining dependency information for pillow>=6.2.0 from https://files.pythonhosted.org/packages/07/22/93d6b5aa5917d09ec7088a2c4d1821848f3f95fbdc2633ba9d9fc28444a1/Pillow-10.1.0-cp311-cp311-macosx_10_10_x86_64.whl.metadata\n",
      "  Downloading Pillow-10.1.0-cp311-cp311-macosx_10_10_x86_64.whl.metadata (9.5 kB)\n",
      "Collecting pyparsing>=2.3.1 (from matplotlib!=3.6.1,>=3.3->seaborn)\n",
      "  Obtaining dependency information for pyparsing>=2.3.1 from https://files.pythonhosted.org/packages/39/92/8486ede85fcc088f1b3dba4ce92dd29d126fd96b0008ea213167940a2475/pyparsing-3.1.1-py3-none-any.whl.metadata\n",
      "  Using cached pyparsing-3.1.1-py3-none-any.whl.metadata (5.1 kB)\n",
      "Requirement already satisfied: python-dateutil>=2.7 in /Users/christianrasmussen/opt/miniconda3/envs/data_wrangling/lib/python3.11/site-packages (from matplotlib!=3.6.1,>=3.3->seaborn) (2.8.2)\n",
      "Requirement already satisfied: pytz>=2020.1 in /Users/christianrasmussen/opt/miniconda3/envs/data_wrangling/lib/python3.11/site-packages (from pandas>=1.2->seaborn) (2023.3.post1)\n",
      "Requirement already satisfied: tzdata>=2022.1 in /Users/christianrasmussen/opt/miniconda3/envs/data_wrangling/lib/python3.11/site-packages (from pandas>=1.2->seaborn) (2023.3)\n",
      "Requirement already satisfied: six>=1.5 in /Users/christianrasmussen/opt/miniconda3/envs/data_wrangling/lib/python3.11/site-packages (from python-dateutil>=2.7->matplotlib!=3.6.1,>=3.3->seaborn) (1.16.0)\n",
      "Downloading seaborn-0.13.0-py3-none-any.whl (294 kB)\n",
      "\u001b[2K   \u001b[90m━━━━━━━━━━━━━━━━━━━━━━━━━━━━━━━━━━━━━━━━\u001b[0m \u001b[32m294.6/294.6 kB\u001b[0m \u001b[31m6.6 MB/s\u001b[0m eta \u001b[36m0:00:00\u001b[0mta \u001b[36m0:00:01\u001b[0m\n",
      "\u001b[?25hUsing cached matplotlib-3.8.0-cp311-cp311-macosx_10_12_x86_64.whl (7.6 MB)\n",
      "Using cached contourpy-1.1.1-cp311-cp311-macosx_10_9_x86_64.whl (248 kB)\n",
      "Downloading cycler-0.12.1-py3-none-any.whl (8.3 kB)\n",
      "Downloading fonttools-4.43.1-cp311-cp311-macosx_10_9_x86_64.whl (2.2 MB)\n",
      "\u001b[2K   \u001b[90m━━━━━━━━━━━━━━━━━━━━━━━━━━━━━━━━━━━━━━━━\u001b[0m \u001b[32m2.2/2.2 MB\u001b[0m \u001b[31m12.4 MB/s\u001b[0m eta \u001b[36m0:00:00\u001b[0ma \u001b[36m0:00:01\u001b[0m\n",
      "\u001b[?25hUsing cached kiwisolver-1.4.5-cp311-cp311-macosx_10_9_x86_64.whl (68 kB)\n",
      "Downloading Pillow-10.1.0-cp311-cp311-macosx_10_10_x86_64.whl (3.5 MB)\n",
      "\u001b[2K   \u001b[90m━━━━━━━━━━━━━━━━━━━━━━━━━━━━━━━━━━━━━━━━\u001b[0m \u001b[32m3.5/3.5 MB\u001b[0m \u001b[31m13.1 MB/s\u001b[0m eta \u001b[36m0:00:00\u001b[0m00:01\u001b[0m00:01\u001b[0m\n",
      "\u001b[?25hUsing cached pyparsing-3.1.1-py3-none-any.whl (103 kB)\n",
      "Installing collected packages: pyparsing, pillow, kiwisolver, fonttools, cycler, contourpy, matplotlib, seaborn\n",
      "Successfully installed contourpy-1.1.1 cycler-0.12.1 fonttools-4.43.1 kiwisolver-1.4.5 matplotlib-3.8.0 pillow-10.1.0 pyparsing-3.1.1 seaborn-0.13.0\n"
     ]
    }
   ],
   "source": [
    "# !pip install seaborn"
   ]
  },
  {
   "cell_type": "code",
   "execution_count": 69,
   "metadata": {},
   "outputs": [],
   "source": [
    "import pandas as pd\n",
    "import datetime as datetime\n",
    "import numpy as np\n",
    "import seaborn as sns"
   ]
  },
  {
   "cell_type": "code",
   "execution_count": 60,
   "metadata": {},
   "outputs": [],
   "source": [
    "imdb = pd.read_parquet('../data/raw/imdb_reviews/cleaned_sorta.parquet')\n",
    "imdb['scrape_date'] = [datetime.date(2023, 10, 21) for i in range(len(imdb))]\n",
    "imdb['is_rotten'] = [np.nan for i in range(len(imdb))]\n",
    "imdb['source'] = ['imdb' for i in range(len(imdb))]\n",
    "imdb.score = imdb.score.apply(lambda x: x/10)\n",
    "\n",
    "\n",
    "\n",
    "\n",
    "rt_aud = pd.read_csv('../data/raw/reviews/RT_audience.csv')\n",
    "rt_aud['scrape_date'] = [datetime.date(2023, 10, 21) for i in range(len(rt_aud))]\n",
    "rt_aud['title'] = [np.nan for i in range(len(rt_aud))]\n",
    "rt_aud['is_rotten'] = [np.nan for i in range(len(rt_aud))]\n",
    "rt_aud['source'] = ['rt_aud' for i in range(len(rt_aud))]\n",
    "\n",
    "\n",
    "\n",
    "\n",
    "rt_crit = pd.read_csv('../data/raw/reviews/RT_critics.csv')\n",
    "rt_crit['scrape_date'] = [datetime.date(2023, 10, 21) for i in range(len(rt_crit))]\n",
    "rt_crit['title'] = [np.nan for i in range(len(rt_crit))]\n",
    "rt_crit['score'] = [np.nan for i in range(len(rt_crit))]\n",
    "rt_crit['source'] = ['rt_crit' for i in range(len(rt_crit))]\n",
    "\n",
    "\n",
    "\n",
    "\n",
    "\n",
    "metacritic = pd.read_json('../data/raw/reviews/metacritic.json')\n",
    "metacritic['title'] = [np.nan for i in range(len(metacritic))]\n",
    "metacritic['is_rotten'] = [np.nan for i in range(len(metacritic))]\n",
    "metacritic['source'] = ['metacritic' for i in range(len(metacritic))]\n",
    "\n"
   ]
  },
  {
   "cell_type": "code",
   "execution_count": 61,
   "metadata": {},
   "outputs": [
    {
     "name": "stdout",
     "output_type": "stream",
     "text": [
      "['date', 'is_rotten', 'movie', 'score', 'scrape_date', 'source', 'text', 'title', 'url', 'user']\n",
      "['date', 'is_rotten', 'movie', 'score', 'scrape_date', 'source', 'text', 'title', 'url', 'user']\n",
      "['date', 'is_rotten', 'movie', 'score', 'scrape_date', 'source', 'text', 'title', 'url', 'user']\n",
      "['date', 'is_rotten', 'movie', 'score', 'scrape_date', 'source', 'text', 'title', 'url', 'user']\n"
     ]
    }
   ],
   "source": [
    "df_list = [imdb, rt_aud, rt_crit, metacritic]\n",
    "for i in df_list:\n",
    "    print(sorted(i.columns))"
   ]
  },
  {
   "cell_type": "code",
   "execution_count": 62,
   "metadata": {},
   "outputs": [
    {
     "name": "stdout",
     "output_type": "stream",
     "text": [
      "265\n"
     ]
    }
   ],
   "source": [
    "main_df = pd.concat(df_list)\n",
    "print(len(main_df) - len(main_df.drop_duplicates()))\n",
    "main_df = main_df.drop_duplicates()\n",
    "main_df.loc[main_df['score'] == 0.0, ['score']]  = 1.0"
   ]
  },
  {
   "cell_type": "code",
   "execution_count": 63,
   "metadata": {},
   "outputs": [
    {
     "data": {
      "text/plain": [
       "score\n",
       "10.0    119907\n",
       "8.0      61449\n",
       "9.0      43976\n",
       "7.0      39072\n",
       "6.0      31970\n",
       "1.0      18446\n",
       "5.0      17439\n",
       "4.0      15751\n",
       "2.0      11211\n",
       "3.0       9614\n",
       "Name: count, dtype: int64"
      ]
     },
     "execution_count": 63,
     "metadata": {},
     "output_type": "execute_result"
    }
   ],
   "source": [
    "main_df.score.value_counts()"
   ]
  },
  {
   "cell_type": "code",
   "execution_count": 64,
   "metadata": {},
   "outputs": [
    {
     "data": {
      "text/plain": [
       "movie\n",
       "avengers-endgame                               21428\n",
       "captain-marvel                                 19978\n",
       "doctor-strange-in-the-multiverse-of-madness    15105\n",
       "thor-love-and-thunder                          15085\n",
       "eternals                                       14828\n",
       "black-panther                                  14043\n",
       "black-widow                                    12867\n",
       "guardians-of-the-galaxy                        12538\n",
       "iron-man-3                                     12345\n",
       "captain-america-civil-war                      12313\n",
       "iron-man                                       12106\n",
       "black-panther-wakanda-forever                  11985\n",
       "avengers-age-of-ultron                         11897\n",
       "captain-america-the-first-avenger              11671\n",
       "iron-man-2                                     11567\n",
       "captain-america-the-winter-soldier             11494\n",
       "thor                                           11347\n",
       "the-incredible-hulk                            11210\n",
       "spider-man-far-from-home                       10890\n",
       "thor-the-dark-world                            10755\n",
       "shang-chi-and-the-legend-of-the-ten-rings      10646\n",
       "guardians-of-the-galaxy-vol.-3                 10570\n",
       "thor-ragnarok                                  10432\n",
       "the-avengers                                   10350\n",
       "avengers-infinity-war                           9497\n",
       "ant-man                                         8882\n",
       "doctor-strange                                  8085\n",
       "spider-man-homecoming                           7492\n",
       "guardians-of-the-galaxy-vol.-2                  6889\n",
       "ant-man-and-the-wasp-quantumania                6523\n",
       "spiderman-no-way-home                           6045\n",
       "spider-man-no-way-home                          3994\n",
       "ant-man-and-the-wasp                            3837\n",
       "shangchi-and-the-legend-of-the-ten-rings        2496\n",
       "spiderman-far-from-home                         2249\n",
       "avengers-assemble                               2097\n",
       "guardians-of-the-galaxy-vol-3                   1473\n",
       "spiderman-homecoming                            1445\n",
       "antman-and-the-wasp-quantumania                 1349\n",
       "guardians-of-the-galaxy-vol-2                   1175\n",
       "antman-and-the-wasp                             1048\n",
       "werewolf-by-night                                981\n",
       "the-guardians-of-the-galaxy-holiday-special      517\n",
       "the-avengers-2012                                100\n",
       "Name: count, dtype: int64"
      ]
     },
     "execution_count": 64,
     "metadata": {},
     "output_type": "execute_result"
    }
   ],
   "source": [
    "main_df.movie.value_counts()"
   ]
  },
  {
   "cell_type": "code",
   "execution_count": 76,
   "metadata": {},
   "outputs": [
    {
     "name": "stdout",
     "output_type": "stream",
     "text": [
      "median score: 6.0\n",
      "mean score: 5.443507472919237\n",
      "median score: 7.0\n",
      "mean score: 6.743388834476004\n",
      "median score: 7.0\n",
      "mean score: 7.100173341848372\n",
      "median score: 9.0\n",
      "mean score: 8.16563846868926\n",
      "median score: 9.0\n",
      "mean score: 7.865174129353234\n",
      "median score: 7.0\n",
      "mean score: 7.103537378597523\n",
      "median score: 8.0\n",
      "mean score: 7.248410535876476\n",
      "median score: 8.0\n",
      "mean score: 6.961400065423618\n",
      "median score: 10.0\n",
      "mean score: 8.948364554013395\n",
      "median score: 9.0\n",
      "mean score: 7.772951728307971\n",
      "median score: 7.0\n",
      "mean score: 6.363060869565217\n",
      "median score: 7.0\n",
      "mean score: 6.947069597069597\n",
      "median score: 10.0\n",
      "mean score: 8.668370858322682\n",
      "median score: 9.0\n",
      "mean score: 7.973209249858996\n",
      "median score: 9.0\n",
      "mean score: 7.854945054945055\n",
      "median score: 10.0\n",
      "mean score: 8.638226213864721\n",
      "median score: 9.0\n",
      "mean score: 8.655795148247979\n",
      "median score: 8.0\n",
      "mean score: 7.047311827956989\n",
      "median score: 9.0\n",
      "mean score: 8.251803388693173\n",
      "median score: 6.0\n",
      "mean score: 5.772693173293323\n",
      "median score: 9.0\n",
      "mean score: 8.57\n",
      "median score: 10.0\n",
      "mean score: 8.315609167671894\n",
      "median score: 8.0\n",
      "mean score: 7.246566488931976\n",
      "median score: 8.0\n",
      "mean score: 8.018873762376238\n",
      "median score: 8.0\n",
      "mean score: 7.009093619558736\n",
      "median score: 10.0\n",
      "mean score: 8.692777722127618\n",
      "median score: 8.0\n",
      "mean score: 7.68608301360307\n",
      "median score: 8.0\n",
      "mean score: 7.2830025884383085\n",
      "median score: 8.0\n",
      "mean score: 7.090277196214722\n",
      "median score: 9.0\n",
      "mean score: 8.40609721023871\n",
      "median score: 10.0\n",
      "mean score: 8.404236243415891\n",
      "median score: 8.0\n",
      "mean score: 7.468731563421829\n",
      "median score: 10.0\n",
      "mean score: 8.647871116225547\n",
      "median score: 8.0\n",
      "mean score: 7.939027255639098\n",
      "median score: 10.0\n",
      "mean score: 7.884855852726641\n",
      "median score: 8.0\n",
      "mean score: 7.215885947046843\n",
      "median score: 8.0\n",
      "mean score: 7.226713532513181\n",
      "median score: 7.0\n",
      "mean score: 6.967425256581883\n",
      "median score: 8.0\n",
      "mean score: 7.915132523828176\n",
      "median score: 9.0\n",
      "mean score: 8.527524068131326\n",
      "median score: 7.0\n",
      "mean score: 6.654836941627844\n",
      "median score: 8.0\n",
      "mean score: 7.5326909841706815\n",
      "median score: 9.0\n",
      "mean score: 8.395625904178369\n",
      "median score: 6.0\n",
      "mean score: 5.433469726006112\n"
     ]
    }
   ],
   "source": [
    "scores = []\n",
    "for film in set(main_df.movie):\n",
    "    new_df = main_df.query('movie == @film')\n",
    "    scores.append([film, new_df.score.median(), new_df.score.mean()])\n",
    "    print('median score:', new_df.score.median())\n",
    "    print('mean score:', new_df.score.mean())"
   ]
  },
  {
   "cell_type": "code",
   "execution_count": 80,
   "metadata": {},
   "outputs": [
    {
     "name": "stdout",
     "output_type": "stream",
     "text": [
      "\u001b[0;31mSignature:\u001b[0m\n",
      "\u001b[0msns\u001b[0m\u001b[0;34m.\u001b[0m\u001b[0mpairplot\u001b[0m\u001b[0;34m(\u001b[0m\u001b[0;34m\u001b[0m\n",
      "\u001b[0;34m\u001b[0m    \u001b[0mdata\u001b[0m\u001b[0;34m,\u001b[0m\u001b[0;34m\u001b[0m\n",
      "\u001b[0;34m\u001b[0m    \u001b[0;34m*\u001b[0m\u001b[0;34m,\u001b[0m\u001b[0;34m\u001b[0m\n",
      "\u001b[0;34m\u001b[0m    \u001b[0mhue\u001b[0m\u001b[0;34m=\u001b[0m\u001b[0;32mNone\u001b[0m\u001b[0;34m,\u001b[0m\u001b[0;34m\u001b[0m\n",
      "\u001b[0;34m\u001b[0m    \u001b[0mhue_order\u001b[0m\u001b[0;34m=\u001b[0m\u001b[0;32mNone\u001b[0m\u001b[0;34m,\u001b[0m\u001b[0;34m\u001b[0m\n",
      "\u001b[0;34m\u001b[0m    \u001b[0mpalette\u001b[0m\u001b[0;34m=\u001b[0m\u001b[0;32mNone\u001b[0m\u001b[0;34m,\u001b[0m\u001b[0;34m\u001b[0m\n",
      "\u001b[0;34m\u001b[0m    \u001b[0mvars\u001b[0m\u001b[0;34m=\u001b[0m\u001b[0;32mNone\u001b[0m\u001b[0;34m,\u001b[0m\u001b[0;34m\u001b[0m\n",
      "\u001b[0;34m\u001b[0m    \u001b[0mx_vars\u001b[0m\u001b[0;34m=\u001b[0m\u001b[0;32mNone\u001b[0m\u001b[0;34m,\u001b[0m\u001b[0;34m\u001b[0m\n",
      "\u001b[0;34m\u001b[0m    \u001b[0my_vars\u001b[0m\u001b[0;34m=\u001b[0m\u001b[0;32mNone\u001b[0m\u001b[0;34m,\u001b[0m\u001b[0;34m\u001b[0m\n",
      "\u001b[0;34m\u001b[0m    \u001b[0mkind\u001b[0m\u001b[0;34m=\u001b[0m\u001b[0;34m'scatter'\u001b[0m\u001b[0;34m,\u001b[0m\u001b[0;34m\u001b[0m\n",
      "\u001b[0;34m\u001b[0m    \u001b[0mdiag_kind\u001b[0m\u001b[0;34m=\u001b[0m\u001b[0;34m'auto'\u001b[0m\u001b[0;34m,\u001b[0m\u001b[0;34m\u001b[0m\n",
      "\u001b[0;34m\u001b[0m    \u001b[0mmarkers\u001b[0m\u001b[0;34m=\u001b[0m\u001b[0;32mNone\u001b[0m\u001b[0;34m,\u001b[0m\u001b[0;34m\u001b[0m\n",
      "\u001b[0;34m\u001b[0m    \u001b[0mheight\u001b[0m\u001b[0;34m=\u001b[0m\u001b[0;36m2.5\u001b[0m\u001b[0;34m,\u001b[0m\u001b[0;34m\u001b[0m\n",
      "\u001b[0;34m\u001b[0m    \u001b[0maspect\u001b[0m\u001b[0;34m=\u001b[0m\u001b[0;36m1\u001b[0m\u001b[0;34m,\u001b[0m\u001b[0;34m\u001b[0m\n",
      "\u001b[0;34m\u001b[0m    \u001b[0mcorner\u001b[0m\u001b[0;34m=\u001b[0m\u001b[0;32mFalse\u001b[0m\u001b[0;34m,\u001b[0m\u001b[0;34m\u001b[0m\n",
      "\u001b[0;34m\u001b[0m    \u001b[0mdropna\u001b[0m\u001b[0;34m=\u001b[0m\u001b[0;32mFalse\u001b[0m\u001b[0;34m,\u001b[0m\u001b[0;34m\u001b[0m\n",
      "\u001b[0;34m\u001b[0m    \u001b[0mplot_kws\u001b[0m\u001b[0;34m=\u001b[0m\u001b[0;32mNone\u001b[0m\u001b[0;34m,\u001b[0m\u001b[0;34m\u001b[0m\n",
      "\u001b[0;34m\u001b[0m    \u001b[0mdiag_kws\u001b[0m\u001b[0;34m=\u001b[0m\u001b[0;32mNone\u001b[0m\u001b[0;34m,\u001b[0m\u001b[0;34m\u001b[0m\n",
      "\u001b[0;34m\u001b[0m    \u001b[0mgrid_kws\u001b[0m\u001b[0;34m=\u001b[0m\u001b[0;32mNone\u001b[0m\u001b[0;34m,\u001b[0m\u001b[0;34m\u001b[0m\n",
      "\u001b[0;34m\u001b[0m    \u001b[0msize\u001b[0m\u001b[0;34m=\u001b[0m\u001b[0;32mNone\u001b[0m\u001b[0;34m,\u001b[0m\u001b[0;34m\u001b[0m\n",
      "\u001b[0;34m\u001b[0m\u001b[0;34m)\u001b[0m\u001b[0;34m\u001b[0m\u001b[0;34m\u001b[0m\u001b[0m\n",
      "\u001b[0;31mDocstring:\u001b[0m\n",
      "Plot pairwise relationships in a dataset.\n",
      "\n",
      "By default, this function will create a grid of Axes such that each numeric\n",
      "variable in ``data`` will by shared across the y-axes across a single row and\n",
      "the x-axes across a single column. The diagonal plots are treated\n",
      "differently: a univariate distribution plot is drawn to show the marginal\n",
      "distribution of the data in each column.\n",
      "\n",
      "It is also possible to show a subset of variables or plot different\n",
      "variables on the rows and columns.\n",
      "\n",
      "This is a high-level interface for :class:`PairGrid` that is intended to\n",
      "make it easy to draw a few common styles. You should use :class:`PairGrid`\n",
      "directly if you need more flexibility.\n",
      "\n",
      "Parameters\n",
      "----------\n",
      "data : `pandas.DataFrame`\n",
      "    Tidy (long-form) dataframe where each column is a variable and\n",
      "    each row is an observation.\n",
      "hue : name of variable in ``data``\n",
      "    Variable in ``data`` to map plot aspects to different colors.\n",
      "hue_order : list of strings\n",
      "    Order for the levels of the hue variable in the palette\n",
      "palette : dict or seaborn color palette\n",
      "    Set of colors for mapping the ``hue`` variable. If a dict, keys\n",
      "    should be values  in the ``hue`` variable.\n",
      "vars : list of variable names\n",
      "    Variables within ``data`` to use, otherwise use every column with\n",
      "    a numeric datatype.\n",
      "{x, y}_vars : lists of variable names\n",
      "    Variables within ``data`` to use separately for the rows and\n",
      "    columns of the figure; i.e. to make a non-square plot.\n",
      "kind : {'scatter', 'kde', 'hist', 'reg'}\n",
      "    Kind of plot to make.\n",
      "diag_kind : {'auto', 'hist', 'kde', None}\n",
      "    Kind of plot for the diagonal subplots. If 'auto', choose based on\n",
      "    whether or not ``hue`` is used.\n",
      "markers : single matplotlib marker code or list\n",
      "    Either the marker to use for all scatterplot points or a list of markers\n",
      "    with a length the same as the number of levels in the hue variable so that\n",
      "    differently colored points will also have different scatterplot\n",
      "    markers.\n",
      "height : scalar\n",
      "    Height (in inches) of each facet.\n",
      "aspect : scalar\n",
      "    Aspect * height gives the width (in inches) of each facet.\n",
      "corner : bool\n",
      "    If True, don't add axes to the upper (off-diagonal) triangle of the\n",
      "    grid, making this a \"corner\" plot.\n",
      "dropna : boolean\n",
      "    Drop missing values from the data before plotting.\n",
      "{plot, diag, grid}_kws : dicts\n",
      "    Dictionaries of keyword arguments. ``plot_kws`` are passed to the\n",
      "    bivariate plotting function, ``diag_kws`` are passed to the univariate\n",
      "    plotting function, and ``grid_kws`` are passed to the :class:`PairGrid`\n",
      "    constructor.\n",
      "\n",
      "Returns\n",
      "-------\n",
      "grid : :class:`PairGrid`\n",
      "    Returns the underlying :class:`PairGrid` instance for further tweaking.\n",
      "\n",
      "See Also\n",
      "--------\n",
      "PairGrid : Subplot grid for more flexible plotting of pairwise relationships.\n",
      "JointGrid : Grid for plotting joint and marginal distributions of two variables.\n",
      "\n",
      "Examples\n",
      "--------\n",
      "\n",
      ".. include:: ../docstrings/pairplot.rst\n",
      "\u001b[0;31mFile:\u001b[0m      ~/opt/miniconda3/envs/data_wrangling/lib/python3.11/site-packages/seaborn/axisgrid.py\n",
      "\u001b[0;31mType:\u001b[0m      function"
     ]
    }
   ],
   "source": [
    "sns.pairplot?"
   ]
  },
  {
   "cell_type": "code",
   "execution_count": 83,
   "metadata": {},
   "outputs": [
    {
     "name": "stderr",
     "output_type": "stream",
     "text": [
      "/var/folders/7n/1v9m4ykn66ddbcxt5nwgg9280000gn/T/ipykernel_37113/2165002354.py:2: UserWarning: \n",
      "\n",
      "`distplot` is a deprecated function and will be removed in seaborn v0.14.0.\n",
      "\n",
      "Please adapt your code to use either `displot` (a figure-level function with\n",
      "similar flexibility) or `histplot` (an axes-level function for histograms).\n",
      "\n",
      "For a guide to updating your code to use the new functions, please see\n",
      "https://gist.github.com/mwaskom/de44147ed2974457ad6372750bbe5751\n",
      "\n",
      "  sns.distplot(scores.Mean_score, bins=20)\n"
     ]
    },
    {
     "data": {
      "text/plain": [
       "<Axes: xlabel='Mean_score', ylabel='Density'>"
      ]
     },
     "execution_count": 83,
     "metadata": {},
     "output_type": "execute_result"
    },
    {
     "data": {
      "image/png": "[encoded data removed]",
      "text/plain": [
       "<Figure size 640x480 with 1 Axes>"
      ]
     },
     "metadata": {},
     "output_type": "display_data"
    }
   ],
   "source": [
    "scores = pd.DataFrame(data=scores, columns=['Movie', 'Median_Score', 'Mean_score'])\n",
    "sns.distplot(scores.Mean_score, bins=20)"
   ]
  },
  {
   "cell_type": "code",
   "execution_count": null,
   "metadata": {},
   "outputs": [],
   "source": []
  }
 ],
 "metadata": {
  "kernelspec": {
   "display_name": "data_wrangling",
   "language": "python",
   "name": "python3"
  },
  "language_info": {
   "codemirror_mode": {
    "name": "ipython",
    "version": 3
   },
   "file_extension": ".py",
   "mimetype": "text/x-python",
   "name": "python",
   "nbconvert_exporter": "python",
   "pygments_lexer": "ipython3",
   "version": "3.11.4"
  }
 },
 "nbformat": 4,
 "nbformat_minor": 2
}
