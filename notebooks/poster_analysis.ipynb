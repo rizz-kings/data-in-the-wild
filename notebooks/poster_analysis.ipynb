{
 "cells": [
  {
   "cell_type": "markdown",
   "metadata": {},
   "source": [
    "For checking correlations between different features in movie posters and the box office revenue of the movies.\n",
    "\n",
    "Indicators from image analysis of the posters:\n",
    " - Color (RGB/HEX)\n",
    " - Lighting (brightness)\n",
    " - Contrast (variance in brightness?)\n",
    " - Sharpness? (edge detection)\n",
    "\n",
    "Indicators from meta data of the posters:\n",
    " - Number of characters\n",
    " - Specific characters present (Iron man, Thor...)\n",
    " - Words/Text/Font?"
   ]
  },
  {
   "cell_type": "markdown",
   "metadata": {},
   "source": [
    "# Imports and set up"
   ]
  },
  {
   "cell_type": "code",
   "execution_count": null,
   "metadata": {},
   "outputs": [],
   "source": [
    "# imports\n",
    "import pandas as pd\n",
    "from PIL import Image\n",
    "import glob\n",
    "\n",
    "import cv2\n",
    "import numpy as np\n",
    "from skimage import io\n",
    "import matplotlib.pyplot as plt"
   ]
  },
  {
   "cell_type": "code",
   "execution_count": null,
   "metadata": {},
   "outputs": [],
   "source": [
    "# setup - getting movie filenames and creating dataframe for later additions\n",
    "movie_titles = []\n",
    "movie_filepaths = []\n",
    "imdb_ids = []\n",
    "\n",
    "image_filepaths = dict()\n",
    "for filename in glob.glob('../data/raw/images/*.jpg'):\n",
    "    splitup = filename.split('_')\n",
    "    imdb_ids.append(splitup[0][19:])\n",
    "    movie_titles.append(splitup[1][:-4])\n",
    "    movie_filepaths.append(filename)\n",
    "\n",
    "img_analysis_dict = dict()\n",
    "img_analysis_dict['movie_title'] = movie_titles\n",
    "img_analysis_dict['movie_filepath'] = movie_filepaths\n",
    "img_analysis_dict['imdb_id'] = imdb_ids\n",
    "img_analysis_df = pd.DataFrame.from_dict(img_analysis_dict)\n",
    "\n",
    "# getting movie revenue\n",
    "movie_stats_df = pd.read_csv('../data/processed/movie_stats/movie_stats.csv')\n",
    "\n",
    "# merging dataframes by column imdb_id\n",
    "img_analysis_df = pd.merge(img_analysis_df, movie_stats_df[['imdb_id', 'movie_revenue']], on='imdb_id', how='left')\n",
    "img_analysis_df.head()"
   ]
  },
  {
   "cell_type": "markdown",
   "metadata": {},
   "source": [
    "# Extracting indicators via image analysis"
   ]
  },
  {
   "cell_type": "markdown",
   "metadata": {},
   "source": [
    "## Average and Dominant Colors"
   ]
  },
  {
   "cell_type": "code",
   "execution_count": null,
   "metadata": {},
   "outputs": [],
   "source": [
    "def analyse_colors(filepath):\n",
    "    '''Given image,\n",
    "    calculates avg and dominant colors\n",
    "    returns the values'''\n",
    "\n",
    "    img = io.imread(filepath)[:, :, :]\n",
    "    average = img.mean(axis=0).mean(axis=0)\n",
    "    pixels = np.float32(img.reshape(-1, 3))\n",
    "\n",
    "    n_colors = 5\n",
    "    criteria = (cv2.TERM_CRITERIA_EPS + cv2.TERM_CRITERIA_MAX_ITER, 200, .1)\n",
    "    flags = cv2.KMEANS_RANDOM_CENTERS\n",
    "\n",
    "    _, labels, palette = cv2.kmeans(pixels, n_colors, None, criteria, 10, flags)\n",
    "    _, counts = np.unique(labels, return_counts=True)\n",
    "\n",
    "    return img, average, palette, counts\n",
    "\n",
    "def gen_color_figure(img, average, palette, counts):\n",
    "    '''Given image, palette, and counts,\n",
    "    Creates and draws avg and dominant color figure'''\n",
    "\n",
    "    avg_patch = np.ones(shape=img.shape, dtype=np.uint8)*np.uint8(average)\n",
    "\n",
    "    indices = np.argsort(counts)[::-1]   \n",
    "    freqs = np.cumsum(np.hstack([[0], counts[indices]/float(counts.sum())]))\n",
    "    rows = np.int_(img.shape[0]*freqs)\n",
    "\n",
    "    dom_patch = np.zeros(shape=img.shape, dtype=np.uint8)\n",
    "    for i in range(len(rows) - 1):\n",
    "        dom_patch[rows[i]:rows[i + 1], :, :] += np.uint8(palette[indices[i]])\n",
    "        \n",
    "    # fig, (ax0, ax1, ax2) = plt.subplots(1, 2, figsize=(12,6))\n",
    "    fig, (ax0, ax1, ax2) = plt.subplots(1, 3, figsize=(12,6))\n",
    "    ax0.imshow(img)\n",
    "    ax0.set_title('Poster')\n",
    "    ax0.axis('off')\n",
    "    ax1.imshow(avg_patch)\n",
    "    ax1.set_title('Average color')\n",
    "    ax1.axis('off')\n",
    "    ax2.imshow(dom_patch)\n",
    "    ax2.set_title('Dominant colors')\n",
    "    ax2.axis('off')\n",
    "\n",
    "    return plt.show(fig)"
   ]
  },
  {
   "cell_type": "code",
   "execution_count": null,
   "metadata": {},
   "outputs": [],
   "source": [
    "test = img_analysis_df[img_analysis_df['movie_title'] == 'ant-man-and-the-wasp']['movie_filepath'].values[0]\n",
    "\n",
    "img, average, palette, counts = analyse_colors(test)\n",
    "gen_color_figure(img, average, palette, counts)"
   ]
  },
  {
   "cell_type": "code",
   "execution_count": null,
   "metadata": {},
   "outputs": [],
   "source": [
    "# brightness analysis\n"
   ]
  },
  {
   "cell_type": "markdown",
   "metadata": {},
   "source": [
    "## Contrast / Sharpness"
   ]
  },
  {
   "cell_type": "code",
   "execution_count": null,
   "metadata": {},
   "outputs": [],
   "source": [
    "contrast = []\n",
    "for idx, row in img_analysis_df.iterrows():\n",
    "    filepath = row['movie_filepath']\n",
    "    img = io.imread(filepath)[:, :, :]\n",
    "    img_grey = cv2.cvtColor(img, cv2.COLOR_BGR2GRAY)\n",
    "    contrast.append(img_grey.std())\n",
    "img_analysis_df['contrast'] = contrast\n",
    "img_analysis_df.head()"
   ]
  },
  {
   "cell_type": "code",
   "execution_count": null,
   "metadata": {},
   "outputs": [],
   "source": [
    "import seaborn as sns\n",
    "\n",
    "# scatter plot for contrast on x axis and revenue on y\n",
    "x = img_analysis_df['contrast']\n",
    "y = img_analysis_df['movie_revenue']\n",
    "\n",
    "sns.regplot(x = x, y = y)"
   ]
  },
  {
   "cell_type": "markdown",
   "metadata": {},
   "source": [
    "# Extracting indicators manually"
   ]
  },
  {
   "cell_type": "code",
   "execution_count": null,
   "metadata": {},
   "outputs": [],
   "source": [
    "# smth like\n",
    "img_manual_indics = {\n",
    "    'movie': [],\n",
    "    'n_characters': [],\n",
    "    'chars_present': []\n",
    "}"
   ]
  },
  {
   "cell_type": "code",
   "execution_count": null,
   "metadata": {},
   "outputs": [],
   "source": [
    "# characters present (and number of characters from that too)\n",
    "\n",
    "# need to manually go through all the posters and write them down"
   ]
  }
 ],
 "metadata": {
  "kernelspec": {
   "display_name": "data_wrangling",
   "language": "python",
   "name": "python3"
  },
  "language_info": {
   "codemirror_mode": {
    "name": "ipython",
    "version": 3
   },
   "file_extension": ".py",
   "mimetype": "text/x-python",
   "name": "python",
   "nbconvert_exporter": "python",
   "pygments_lexer": "ipython3",
   "version": "3.11.5"
  }
 },
 "nbformat": 4,
 "nbformat_minor": 2
}
