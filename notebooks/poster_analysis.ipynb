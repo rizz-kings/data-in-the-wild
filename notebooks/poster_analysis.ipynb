{
 "cells": [
  {
   "cell_type": "markdown",
   "metadata": {},
   "source": [
    "For checking correlations between different features in movie posters and the box office revenue of the movies.\n",
    "\n",
    "Indicators from image analysis of the posters:\n",
    " - Color\n",
    " - Lighting\n",
    " - Sharpness? (edge detection)\n",
    "\n",
    "Indicators from meta data of the posters:\n",
    " - Number of characters\n",
    " - Specific characters present (Iron man, Thor...)\n",
    " - Words/Text/Font?"
   ]
  }
 ],
 "metadata": {
  "kernelspec": {
   "display_name": "data_wrangling",
   "language": "python",
   "name": "python3"
  },
  "language_info": {
   "name": "python",
   "version": "3.11.5"
  }
 },
 "nbformat": 4,
 "nbformat_minor": 2
}
