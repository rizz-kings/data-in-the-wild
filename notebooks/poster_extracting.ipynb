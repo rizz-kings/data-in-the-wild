{
 "cells": [
  {
   "cell_type": "code",
   "execution_count": 8,
   "metadata": {},
   "outputs": [],
   "source": [
    "import pandas as pd\n",
    "import tmdbsimple as tmdb\n",
    "import matplotlib.pyplot as plt\n",
    "import requests\n",
    "import json\n",
    "\n",
    "\n",
    "tmdb.API_KEY = '181cade2ad3f7162ef06b83dd94c0983'\n",
    "\n",
    "base_image_url = \"https://image.tmdb.org/t/p/w600_and_h900_bestv2\""
   ]
  },
  {
   "cell_type": "code",
   "execution_count": 16,
   "metadata": {},
   "outputs": [
    {
     "name": "stdout",
     "output_type": "stream",
     "text": [
      "['blue-beetle', 'spider-man-across-the-spider-verse', 'the-flash', 'guardians-of-the-galaxy-vol.-3', 'teenage-mutant-ninja-turtles-mutant-mayhem', 'miraculous-ladybug-&-cat-noir,-the-movie', 'spider-man-no-way-home', 'ant-man-and-the-wasp-quantumania', 'knights-of-the-zodiac', 'avengers-infinity-war', 'shazam!-fury-of-the-gods', 'the-batman', 'black-panther-wakanda-forever', 'black-adam', 'venom-let-there-be-carnage', 'the-avengers', 'avengers-endgame', 'shang-chi-and-the-legend-of-the-ten-rings', 'doctor-strange-in-the-multiverse-of-madness', 'spider-man-into-the-spider-verse', 'thor-love-and-thunder', 'the-suicide-squad', 'bloodshot', 'spider-man', 'star-wars', 'the-dark-knight', 'big-hero-6', 'venom', 'eternals', 'the-amazing-spider-man', 'the-amazing-spider-man-2', 'spider-man-3', 'avengers-age-of-ultron', 'deadpool', 'spider-man-homecoming', 'iron-man-2', 'thor-ragnarok', 'teenage-mutant-ninja-turtles', 'spider-man-far-from-home', 'iron-man', 'deadpool-2', 'justice-league', 'captain-america-civil-war', 'x-men-apocalypse', 'iron-man-3', 'captain-marvel', 'wonder-woman', 'guardians-of-the-galaxy-vol.-2', 'the-dark-knight-rises', 'the-incredibles', 'batman-v-superman-dawn-of-justice', 'dc-league-of-super-pets', 'aquaman', 'logan', 'birds-of-prey-(and-the-fantabulous-emancipation-of-one-harley-quinn)', 'thor', 'incredibles-2', 'men-in-black', 'suicide-squad', 'doctor-strange', 'batman-begins', 'thor-the-dark-world', 'black-panther', 'the-incredible-hulk', 'constantine', 'ant-man', 'wonder-woman-1984', 'glass', 'megamind', 'the-mask', 'blade', 'batman', 'ghost-rider-spirit-of-vengeance', 'alita-battle-angel', 'shazam!', 'ghost-rider', 'man-of-steel', 'men-in-black-ii', 'chicken-little', 'captain-america-the-first-avenger', 'ant-man-and-the-wasp', 'superman', 'hancock', 'hulk', 'birdman-or-(the-unexpected-virtue-of-ignorance)', 'shin-ultraman', 'dark-phoenix', 'the-crow', 'teenage-mutant-ninja-turtles', 'batman-&-robin', 'the-lego-batman-movie', 'my-hero-academia-two-heroes', 'kick-ass', 'batman-returns', 'blade-ii', 'the-new-mutants', 'green-lantern', 'the-lego-movie', 'fantastic-four-rise-of-the-silver-surfer', 'the-mask-of-zorro', 'batman-forever', 'tmnt', 'spider-man-2', 'captain-america-the-winter-soldier', 'fantastic-four', 'superman-iii', 'blade-trinity', 'hellboy-ii-the-golden-army', 'the-legend-of-zorro', 'superman-iv-the-quest-for-peace', 'unbreakable', 'daredevil', 'fantastic-four', 'the-green-hornet', 'captain-underpants-the-first-epic-movie', 'superman-returns', 'catwoman', 'judge-dredd', 'sky-high', 'teenage-mutant-ninja-turtles-iii', 'max-steel', 'teenage-mutant-ninja-turtles-ii-the-secret-of-the-ooze', 'guardians', 'superman-ii', 'dragonball-evolution', 'elektra', 'supergirl', 'superhero-movie', 'kick-ass-2', 'batman-mask-of-the-phantasm', 'astro-boy', 'batman-the-killing-joke', 'teen-titans-go!-to-the-movies', 'the-powerpuff-girls-movie', 'inspector-gadget', 'the-avengers', 'batman', 'bulletproof-monk', 'the-crow-city-of-angels', 'batman-and-harley-quinn', 'underdog', 'the-toxic-avenger', 'justice-league-the-new-frontier', 'zoom', 'darkman', 'the-shadow', 'orgazmo', 'super', 'the-rocketeer', 'mystery-men', 'league-of-gods', 'the-meteor-man', 'lucky-luke', 'pad-man', 'digimon-the-movie', 'steel', 'defendor', 'superlopez', 'the-wolverine', 'star-kid', 'bling', 'special', 'x-men-origins-wolverine', 'x-men-first-class', 'x-men', 'x2', '3-braves']\n"
     ]
    }
   ],
   "source": [
    "\n",
    "with open(\"../data/raw/movie_stats/superhero_list.json\", \"r\") as read_file:\n",
    "    movie_names = json.load(read_file)\n",
    "print(movie_names)"
   ]
  },
  {
   "cell_type": "code",
   "execution_count": 17,
   "metadata": {},
   "outputs": [],
   "source": [
    "df = pd.read_csv(\"../data/processed/movie_stats/movie_stats.csv\")\n",
    "\n",
    "for movie_name, movie_id in zip(movie_names, df['imdb_id']):\n",
    "    movie_example = tmdb.Movies(movie_id)\n",
    "    response = movie_example.info()\n",
    "    poster_url = base_image_url + response[\"poster_path\"]\n",
    "    img_data = requests.get(poster_url).content\n",
    "    with open(f'../data/raw/images/{movie_name}.jpg', 'wb') as handler:\n",
    "        handler.write(img_data)\n",
    "\n",
    "    # poster = Image.open(urlopen(poster_url), formats=\"jpg\")\n",
    "    "
   ]
  },
  {
   "cell_type": "code",
   "execution_count": null,
   "metadata": {},
   "outputs": [],
   "source": []
  }
 ],
 "metadata": {
  "kernelspec": {
   "display_name": "data-in-wild",
   "language": "python",
   "name": "python3"
  },
  "language_info": {
   "codemirror_mode": {
    "name": "ipython",
    "version": 3
   },
   "file_extension": ".py",
   "mimetype": "text/x-python",
   "name": "python",
   "nbconvert_exporter": "python",
   "pygments_lexer": "ipython3",
   "version": "3.8.5"
  }
 },
 "nbformat": 4,
 "nbformat_minor": 2
}
