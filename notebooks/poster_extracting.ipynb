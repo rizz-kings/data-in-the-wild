{
 "cells": [
  {
   "cell_type": "code",
   "execution_count": 2,
   "metadata": {},
   "outputs": [],
   "source": [
    "import pandas as pd\n",
    "import tmdbsimple as tmdb\n",
    "import matplotlib.pyplot as plt\n",
    "from PIL import Image\n",
    "from urllib.request import urlopen\n",
    "\n",
    "\n",
    "tmdb.API_KEY = '181cade2ad3f7162ef06b83dd94c0983'\n",
    "\n",
    "base_image_url = \"https://image.tmdb.org/t/p/w600_and_h900_bestv2\""
   ]
  },
  {
   "cell_type": "code",
   "execution_count": 6,
   "metadata": {},
   "outputs": [
    {
     "name": "stdout",
     "output_type": "stream",
     "text": [
      "Guardians of the Galaxy Vol. 3: https://image.tmdb.org/t/p/w600_and_h900_bestv2/r2J02Z2OpNTctfOSN1Ydgii51I3.jpg\n",
      "Spider-Man: No Way Home: https://image.tmdb.org/t/p/w600_and_h900_bestv2/5weKu49pzJCt06OPpjvT80efnQj.jpg\n",
      "Ant-Man and the Wasp: Quantumania: https://image.tmdb.org/t/p/w600_and_h900_bestv2/qnqGbB22YJ7dSs4o6M7exTpNxPz.jpg\n",
      "Avengers: Infinity War: https://image.tmdb.org/t/p/w600_and_h900_bestv2/7WsyChQLEftFiDOVTGkv3hFpyyt.jpg\n",
      "Black Panther: Wakanda Forever: https://image.tmdb.org/t/p/w600_and_h900_bestv2/sv1xJUazXeYqALzczSZ3O6nkH75.jpg\n",
      "Thor: Love and Thunder: https://image.tmdb.org/t/p/w600_and_h900_bestv2/pIkRyD18kl4FhoCNQuWxWu5cBLM.jpg\n",
      "Doctor Strange in the Multiverse of Madness: https://image.tmdb.org/t/p/w600_and_h900_bestv2/9Gtg2DzBhmYamXBS1hKAhiwbBKS.jpg\n",
      "Avengers: Endgame: https://image.tmdb.org/t/p/w600_and_h900_bestv2/or06FN3Dka5tukK1e9sl16pB3iy.jpg\n",
      "The Avengers: https://image.tmdb.org/t/p/w600_and_h900_bestv2/RYMX2wcKCBAr24UyPD7xwmjaTn.jpg\n",
      "Iron Man 2: https://image.tmdb.org/t/p/w600_and_h900_bestv2/6WBeq4fCfn7AN0o21W9qNcRF2l9.jpg\n",
      "Shang-Chi and the Legend of the Ten Rings: https://image.tmdb.org/t/p/w600_and_h900_bestv2/1BIoJGKbXjdFDAqUEiA2VHqkK1Z.jpg\n",
      "Spider-Man: Homecoming: https://image.tmdb.org/t/p/w600_and_h900_bestv2/c24sv2weTHPsmDa7jEMN0m2P3RT.jpg\n",
      "Eternals: https://image.tmdb.org/t/p/w600_and_h900_bestv2/lFByFSLV5WDJEv3KabbdAF959F2.jpg\n",
      "Iron Man: https://image.tmdb.org/t/p/w600_and_h900_bestv2/78lPtwv72eTNqFW9COBYI0dWDJa.jpg\n",
      "Thor: Ragnarok: https://image.tmdb.org/t/p/w600_and_h900_bestv2/rzRwTcFvttcN1ZpX2xv4j3tSdJu.jpg\n",
      "Avengers: Age of Ultron: https://image.tmdb.org/t/p/w600_and_h900_bestv2/4ssDuvEDkSArWEdyBl2X5EHvYKU.jpg\n",
      "Spider-Man: Far From Home: https://image.tmdb.org/t/p/w600_and_h900_bestv2/4q2NNj4S5dG2RLF9CpXsej7yXl.jpg\n",
      "Black Widow: https://image.tmdb.org/t/p/w600_and_h900_bestv2/kwB7d51AIcyzPOBOHLCEZJkmPhQ.jpg\n",
      "Thor: The Dark World: https://image.tmdb.org/t/p/w600_and_h900_bestv2/wp6OxE4poJ4G7c0U2ZIXasTSMR7.jpg\n",
      "Captain America: Civil War: https://image.tmdb.org/t/p/w600_and_h900_bestv2/rAGiXaUfPzY7CDEyNKUofk3Kw2e.jpg\n",
      "Guardians of the Galaxy Vol. 2: https://image.tmdb.org/t/p/w600_and_h900_bestv2/y4MBh0EjBlMuOzv9axM4qJlmhzz.jpg\n",
      "Werewolf by Night: https://image.tmdb.org/t/p/w600_and_h900_bestv2/jmv7EbqBuEk4V1U7OoSBaxkwawO.jpg\n",
      "Captain Marvel: https://image.tmdb.org/t/p/w600_and_h900_bestv2/AtsgWhDnHTq68L0lLsUrCnM7TjG.jpg\n",
      "Thor: https://image.tmdb.org/t/p/w600_and_h900_bestv2/prSfAi1xGrhLQNxVSUFh61xQ4Qy.jpg\n",
      "Doctor Strange: https://image.tmdb.org/t/p/w600_and_h900_bestv2/7WfK17BXE6szXlm4WOxfswgbdsL.jpg\n",
      "Iron Man 3: https://image.tmdb.org/t/p/w600_and_h900_bestv2/qhPtAc1TKbMPqNvcdXSOn9Bn7hZ.jpg\n",
      "Black Panther: https://image.tmdb.org/t/p/w600_and_h900_bestv2/uxzzxijgPIY7slzFvMotPv8wjKA.jpg\n",
      "The Incredible Hulk: https://image.tmdb.org/t/p/w600_and_h900_bestv2/gKzYx79y0AQTL4UAk1cBQJ3nvrm.jpg\n",
      "Ant-Man: https://image.tmdb.org/t/p/w600_and_h900_bestv2/8YxOIPrabqkQCOKKbuxaz9IcqhO.jpg\n",
      "Captain America: The First Avenger: https://image.tmdb.org/t/p/w600_and_h900_bestv2/vSNxAJTlD0r02V9sPYpOjqDZXUK.jpg\n",
      "The Guardians of the Galaxy Holiday Special: https://image.tmdb.org/t/p/w600_and_h900_bestv2/8dqXyslZ2hv49Oiob9UjlGSHSTR.jpg\n",
      "Guardians of the Galaxy: https://image.tmdb.org/t/p/w600_and_h900_bestv2/r7vmZjiyZw9rpJMQJdXpjgiCOk9.jpg\n",
      "Captain America: The Winter Soldier: https://image.tmdb.org/t/p/w600_and_h900_bestv2/tVFRpFw3xTedgPGqxW0AOI8Qhh0.jpg\n",
      "Ant-Man and the Wasp: https://image.tmdb.org/t/p/w600_and_h900_bestv2/cFQEO687n1K6umXbInzocxcnAQz.jpg\n"
     ]
    }
   ],
   "source": [
    "df = pd.read_csv(\"../data/processed/movie_stats/movie_stats.csv\")\n",
    "for movie_name, movie_id in zip(df['movie_name'], df['imdb_id']):\n",
    "    movie_example = tmdb.Movies(movie_id)\n",
    "    response = movie_example.info()\n",
    "    poster_url = base_image_url + response[\"poster_path\"]\n",
    "    print(f\"{movie_name}: {poster_url}\")\n",
    "\n",
    "    # poster = Image.open(urlopen(poster_url), formats=\"jpg\")\n",
    "    "
   ]
  },
  {
   "cell_type": "code",
   "execution_count": null,
   "metadata": {},
   "outputs": [],
   "source": []
  }
 ],
 "metadata": {
  "kernelspec": {
   "display_name": "data-in-wild",
   "language": "python",
   "name": "python3"
  },
  "language_info": {
   "codemirror_mode": {
    "name": "ipython",
    "version": 3
   },
   "file_extension": ".py",
   "mimetype": "text/x-python",
   "name": "python",
   "nbconvert_exporter": "python",
   "pygments_lexer": "ipython3",
   "version": "3.8.5"
  }
 },
 "nbformat": 4,
 "nbformat_minor": 2
}
