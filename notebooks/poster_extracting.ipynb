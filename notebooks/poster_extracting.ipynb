{
 "cells": [
  {
   "cell_type": "code",
   "execution_count": 4,
   "metadata": {},
   "outputs": [],
   "source": [
    "import pandas as pd\n",
    "import tmdbsimple as tmdb\n",
    "import matplotlib.pyplot as plt\n",
    "import requests\n",
    "import json\n",
    "\n",
    "\n",
    "tmdb.API_KEY = '181cade2ad3f7162ef06b83dd94c0983'\n",
    "\n",
    "base_image_url = \"https://image.tmdb.org/t/p/w600_and_h900_bestv2\""
   ]
  },
  {
   "cell_type": "code",
   "execution_count": 6,
   "metadata": {},
   "outputs": [
    {
     "name": "stdout",
     "output_type": "stream",
     "text": [
      "['guardians-of-the-galaxy-vol.-3', 'avengers-infinity-war', 'spider-man-no-way-home', 'ant-man-and-the-wasp-quantumania', 'black-panther-wakanda-forever', 'thor-love-and-thunder', 'avengers-endgame', 'doctor-strange-in-the-multiverse-of-madness', 'the-avengers', 'shang-chi-and-the-legend-of-the-ten-rings', 'spider-man-homecoming', 'avengers-age-of-ultron', 'eternals', 'captain-america-civil-war', 'iron-man-2', 'thor-ragnarok', 'iron-man', 'iron-man-3', 'captain-marvel', 'spider-man-far-from-home', 'guardians-of-the-galaxy-vol.-2', 'black-widow', 'thor', 'doctor-strange', 'thor-the-dark-world', 'black-panther', 'the-incredible-hulk', 'ant-man', 'captain-america-the-first-avenger', 'guardians-of-the-galaxy', 'ant-man-and-the-wasp', 'captain-america-the-winter-soldier']\n"
     ]
    }
   ],
   "source": [
    "\n",
    "with open(\"../data/raw/movie_stats/mcu_list.json\", \"r\") as read_file:\n",
    "    movie_names = json.load(read_file)\n",
    "print(movie_names)"
   ]
  },
  {
   "cell_type": "code",
   "execution_count": 9,
   "metadata": {},
   "outputs": [],
   "source": [
    "df = pd.read_csv(\"../data/processed/movie_stats/movie_stats.csv\")\n",
    "\n",
    "for movie_name, movie_id in zip(movie_names, df['imdb_id']):\n",
    "    movie_example = tmdb.Movies(movie_id)\n",
    "    response = movie_example.info()\n",
    "    poster_url = base_image_url + response[\"poster_path\"]\n",
    "    img_data = requests.get(poster_url).content\n",
    "    with open(f'../data/raw/images/{movie_name}.jpg', 'wb') as handler:\n",
    "        handler.write(img_data)\n",
    "\n",
    "    # poster = Image.open(urlopen(poster_url), formats=\"jpg\")\n",
    "    "
   ]
  },
  {
   "cell_type": "code",
   "execution_count": null,
   "metadata": {},
   "outputs": [],
   "source": []
  }
 ],
 "metadata": {
  "kernelspec": {
   "display_name": "data-in-wild",
   "language": "python",
   "name": "python3"
  },
  "language_info": {
   "codemirror_mode": {
    "name": "ipython",
    "version": 3
   },
   "file_extension": ".py",
   "mimetype": "text/x-python",
   "name": "python",
   "nbconvert_exporter": "python",
   "pygments_lexer": "ipython3",
   "version": "3.8.5"
  }
 },
 "nbformat": 4,
 "nbformat_minor": 2
}
