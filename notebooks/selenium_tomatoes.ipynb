{
 "cells": [
  {
   "cell_type": "markdown",
   "metadata": {},
   "source": [
    "# Scrapes \"Rotten Tomatoes\" reviews using Selenium\n",
    "\n",
    "More detailed:\n",
    " - List of movie titles as input (eventually stored somewhere in the repo)\n",
    " - Maybe a number N as input too for number of reviews to scrape per movie\n",
    " - Uses selenium to open reviews by \"Top Critics\" and \"Verified Audience\" for the given movie\n",
    " - Based on N, clicks \"Next\" to keep scraping reviews until the required number is reached or no more reviews exist"
   ]
  },
  {
   "cell_type": "markdown",
   "metadata": {},
   "source": [
    "# Setup"
   ]
  },
  {
   "cell_type": "markdown",
   "metadata": {},
   "source": [
    "## Imports"
   ]
  },
  {
   "cell_type": "code",
   "execution_count": 136,
   "metadata": {},
   "outputs": [],
   "source": [
    "import pandas as pd\n",
    "\n",
    "from selenium import webdriver\n",
    "from selenium.webdriver.common.keys import Keys\n",
    "from selenium.webdriver.common.by import By\n",
    "from selenium.webdriver.support.ui import WebDriverWait\n",
    "from selenium.common.exceptions import TimeoutException\n",
    "from selenium.common.exceptions import NoSuchElementException\n",
    "from selenium.webdriver.support import expected_conditions as EC\n",
    "\n",
    "from bs4 import BeautifulSoup as bs\n",
    "import re"
   ]
  },
  {
   "cell_type": "markdown",
   "metadata": {},
   "source": [
    "## Selenium configs"
   ]
  },
  {
   "cell_type": "code",
   "execution_count": 3,
   "metadata": {},
   "outputs": [],
   "source": [
    "# specify Edge driver location\n",
    "service = webdriver.EdgeService(executable_path='../selenium/msedgedriver.exe')\n",
    "\n",
    "# \n",
    "# options = webdriver.EdgeOptions()"
   ]
  },
  {
   "cell_type": "code",
   "execution_count": 4,
   "metadata": {},
   "outputs": [],
   "source": [
    "def open_browser_instance():\n",
    "    '''For instantiating a selenium browser'\n",
    "    Tries to visit the rottentomatoes homepage\n",
    "    Waits max 30 seconds for it to load (waits for cookie popup to load)\n",
    "    If it loads, clicks reject cookies and returns the instance\n",
    "    If it fails to load, aborts and prints an error message'''\n",
    "    \n",
    "    browser = webdriver.Edge()\n",
    "    browser.get('https://www.rottentomatoes.com/')\n",
    "    \n",
    "    # wait until cookie popup appears\n",
    "    try:\n",
    "        reject_button = WebDriverWait(browser, 30).until(\n",
    "            EC.element_to_be_clickable((By.XPATH, '//*[@id=\"onetrust-reject-all-handler\"]'))\n",
    "        )\n",
    "        print('Cookie popup appeared')\n",
    "    except TimeoutException:\n",
    "        print('Cookie popup never appeared')\n",
    "\n",
    "    # click reject button\n",
    "    reject_button.click()\n",
    "    print('Cookies rejected')\n",
    "    \n",
    "    return browser"
   ]
  },
  {
   "cell_type": "code",
   "execution_count": 133,
   "metadata": {},
   "outputs": [],
   "source": [
    "def grab_critic_reviewer_data(browser, reviews):\n",
    "    '''Given a selenium instance of critic reviews on rotten tomatoes and the reviews dict, uses BeautifulSoup to find all:\n",
    "     - reviewer_name\n",
    "     - is_rotten\n",
    "     - review_text\n",
    "    Adds them to the reviews dict and returns it'''\n",
    "\n",
    "    soup = bs(browser.page_source)\n",
    "\n",
    "    # get names\n",
    "    reviewer_name_soup = soup.find_all('a', class_='display-name')\n",
    "    for i in reviewer_name_soup:\n",
    "        name = i.contents[0].strip()\n",
    "        reviews['reviewer_name'].append(name)\n",
    "    \n",
    "    # get review texts\n",
    "    reviewer_text_soup = soup.find_all('p', class_='review-text')\n",
    "    for i in reviewer_text_soup:\n",
    "        review_text = i.contents[0].strip()\n",
    "        reviews['review_text'].append(review_text)\n",
    "\n",
    "    # get reviewer rating\n",
    "    reviewer_rating_soup = soup.find_all('score-icon-critic-deprecated')\n",
    "    for i in reviewer_rating_soup:\n",
    "        # finds unwanted tags (not sure who they belong to or what) so need to exclude those\n",
    "        # the desired reviews have hidden rotten percentages, we only see if they are fesh or rotten\n",
    "        percentage = i['percentage']\n",
    "        if percentage == 'hide':\n",
    "            rating = i['state']\n",
    "            if rating == 'rotten':\n",
    "                reviews['is_rotten'].append(True)\n",
    "            elif rating == 'fresh':\n",
    "                reviews['is_rotten'].append(False)\n",
    "            else:\n",
    "                print('Something went wrong when checking review rating')\n",
    "                break\n",
    "\n",
    "    return reviews"
   ]
  },
  {
   "cell_type": "code",
   "execution_count": 139,
   "metadata": {},
   "outputs": [],
   "source": [
    "def scrape_critic_reviews(browser, movie_title, N):\n",
    "    '''Given a selenium instance, movie title, and number of reviews to scrape:\n",
    "     - Loads the first page for \"Top Critics\"\n",
    "     - Scrapes the 20 reviews in the page (reviewer name, if movie is rotten or a tomato, and text of review)\n",
    "     - Clicks next button to load more reviews\n",
    "     - Continues until N reviews gathered or all reviews gathered\n",
    "     - Puts reviews in pandas DataFrame\n",
    "     - Returns the DataFrame\n",
    "    '''\n",
    "\n",
    "    # format movie_title to appear as it should in rotten tomatoes url\n",
    "    movie_title = movie_title.replace(\" \", \"_\").lower()\n",
    "    url = 'https://www.rottentomatoes.com/m/' + movie_title + '/reviews?type=top_critics'\n",
    "\n",
    "    # load first page\n",
    "    browser.get(url)\n",
    "\n",
    "    # wait until the text of first review appears\n",
    "    WebDriverWait(browser, 30).until(\n",
    "        EC.presence_of_element_located((By.XPATH, '/html/body/div[3]/main/div/div/section/div/div[2]/div[1]/div[2]/p[1]'))\n",
    "    )\n",
    "\n",
    "    # scrape initial page\n",
    "    reviews = {'reviewer_name': [], 'review_text': [], 'is_rotten': []}\n",
    "    reviews = grab_critic_reviewer_data(browser, reviews)\n",
    "\n",
    "    # keep clicking next page and scraping more reviews\n",
    "    done = False\n",
    "    while done == False:\n",
    "        # stop when either the desired number of reviews scraped (N) is reached...\n",
    "        if len(reviews) >= N:\n",
    "            done = True\n",
    "            break\n",
    "\n",
    "        # ...or when no next page exists\n",
    "        try:\n",
    "            next_page = browser.find_element(By.XPATH, '/html/body/div[3]/main/div/div/section/div/div[1]/rt-button[2]')\n",
    "            next_page.click()\n",
    "        except NoSuchElementException:\n",
    "            done = True\n",
    "            break\n",
    "\n",
    "        # wait until the text of first review appears\n",
    "        WebDriverWait(browser, 30).until(\n",
    "            EC.presence_of_element_located((By.XPATH, '/html/body/div[3]/main/div/div/section/div/div[2]/div[1]/div[2]/p[1]'))\n",
    "        )\n",
    "\n",
    "        # scrape it\n",
    "        reviews = grab_critic_reviewer_data(browser, reviews)\n",
    "    \n",
    "    # print(reviews)\n",
    "\n",
    "    # # turn data into pandas DataFrame\n",
    "    df = pd.DataFrame(reviews)\n",
    "    print(df)\n",
    "    \n",
    "    return "
   ]
  },
  {
   "cell_type": "markdown",
   "metadata": {},
   "source": [
    "# Running Scrapes"
   ]
  },
  {
   "cell_type": "code",
   "execution_count": 140,
   "metadata": {},
   "outputs": [
    {
     "name": "stdout",
     "output_type": "stream",
     "text": [
      "Cookie popup appeared\n",
      "Cookies rejected\n"
     ]
    },
    {
     "ename": "ElementNotInteractableException",
     "evalue": "Message: element not interactable\n  (Session info: MicrosoftEdge=117.0.2045.60)\nStacktrace:\n\tGetHandleVerifier [0x00007FF7366D99F2+63682]\n\tMicrosoft::Applications::Events::ILogConfiguration::operator* [0x00007FF736661942+267762]\n\t(No symbol) [0x00007FF73641AA40]\n\t(No symbol) [0x00007FF73646C991]\n\t(No symbol) [0x00007FF73645F1DC]\n\t(No symbol) [0x00007FF73648C84A]\n\t(No symbol) [0x00007FF73645EC51]\n\t(No symbol) [0x00007FF73645EAFD]\n\t(No symbol) [0x00007FF73648CB70]\n\t(No symbol) [0x00007FF73645EC51]\n\t(No symbol) [0x00007FF7364A6A81]\n\t(No symbol) [0x00007FF73648C623]\n\t(No symbol) [0x00007FF73645DA7A]\n\t(No symbol) [0x00007FF73645CD6B]\n\t(No symbol) [0x00007FF73645E204]\n\tMicrosoft::Applications::Events::EventProperty::to_string [0x00007FF7368A5EF9+1233737]\n\t(No symbol) [0x00007FF7364DB274]\n\tMicrosoft::Applications::Events::EventProperty::~EventProperty [0x00007FF7365A32AA+33498]\n\tMicrosoft::Applications::Events::EventProperty::~EventProperty [0x00007FF73659BDE9+3609]\n\tMicrosoft::Applications::Events::EventProperty::to_string [0x00007FF7368A4C94+1229028]\n\tMicrosoft::Applications::Events::ILogConfiguration::operator* [0x00007FF73666BAE8+309144]\n\tMicrosoft::Applications::Events::ILogConfiguration::operator* [0x00007FF7366667C4+287860]\n\tMicrosoft::Applications::Events::ILogConfiguration::operator* [0x00007FF7366668F2+288162]\n\tMicrosoft::Applications::Events::ILogConfiguration::operator* [0x00007FF736659FF1+236705]\n\tBaseThreadInitThunk [0x00007FFAA7687344+20]\n\tRtlUserThreadStart [0x00007FFAA78226B1+33]\n",
     "output_type": "error",
     "traceback": [
      "\u001b[1;31m---------------------------------------------------------------------------\u001b[0m",
      "\u001b[1;31mElementNotInteractableException\u001b[0m           Traceback (most recent call last)",
      "\u001b[1;32mc:\\Users\\aidan\\OneDrive\\Desktop\\itu\\msc\\courses\\sem1\\data_in_the_wild\\project\\repo\\data-in-the-wild\\notebooks\\selenium_tomatoes.ipynb Cell 11\u001b[0m line \u001b[0;36m7\n\u001b[0;32m      <a href='vscode-notebook-cell:/c%3A/Users/aidan/OneDrive/Desktop/itu/msc/courses/sem1/data_in_the_wild/project/repo/data-in-the-wild/notebooks/selenium_tomatoes.ipynb#X13sZmlsZQ%3D%3D?line=3'>4</a>\u001b[0m browser \u001b[39m=\u001b[39m open_browser_instance()\n\u001b[0;32m      <a href='vscode-notebook-cell:/c%3A/Users/aidan/OneDrive/Desktop/itu/msc/courses/sem1/data_in_the_wild/project/repo/data-in-the-wild/notebooks/selenium_tomatoes.ipynb#X13sZmlsZQ%3D%3D?line=5'>6</a>\u001b[0m \u001b[39mfor\u001b[39;00m movie_title \u001b[39min\u001b[39;00m movie_title_test_list:\n\u001b[1;32m----> <a href='vscode-notebook-cell:/c%3A/Users/aidan/OneDrive/Desktop/itu/msc/courses/sem1/data_in_the_wild/project/repo/data-in-the-wild/notebooks/selenium_tomatoes.ipynb#X13sZmlsZQ%3D%3D?line=6'>7</a>\u001b[0m     df \u001b[39m=\u001b[39m scrape_critic_reviews(browser, movie_title, reviews_per_movie)\n\u001b[0;32m     <a href='vscode-notebook-cell:/c%3A/Users/aidan/OneDrive/Desktop/itu/msc/courses/sem1/data_in_the_wild/project/repo/data-in-the-wild/notebooks/selenium_tomatoes.ipynb#X13sZmlsZQ%3D%3D?line=9'>10</a>\u001b[0m browser\u001b[39m.\u001b[39mclose()\n",
      "\u001b[1;32mc:\\Users\\aidan\\OneDrive\\Desktop\\itu\\msc\\courses\\sem1\\data_in_the_wild\\project\\repo\\data-in-the-wild\\notebooks\\selenium_tomatoes.ipynb Cell 11\u001b[0m line \u001b[0;36m3\n\u001b[0;32m     <a href='vscode-notebook-cell:/c%3A/Users/aidan/OneDrive/Desktop/itu/msc/courses/sem1/data_in_the_wild/project/repo/data-in-the-wild/notebooks/selenium_tomatoes.ipynb#X13sZmlsZQ%3D%3D?line=35'>36</a>\u001b[0m next_page \u001b[39m=\u001b[39m browser\u001b[39m.\u001b[39mfind_element(By\u001b[39m.\u001b[39mXPATH, \u001b[39m'\u001b[39m\u001b[39m/html/body/div[3]/main/div/div/section/div/div[1]/rt-button[2]\u001b[39m\u001b[39m'\u001b[39m)\n\u001b[0;32m     <a href='vscode-notebook-cell:/c%3A/Users/aidan/OneDrive/Desktop/itu/msc/courses/sem1/data_in_the_wild/project/repo/data-in-the-wild/notebooks/selenium_tomatoes.ipynb#X13sZmlsZQ%3D%3D?line=36'>37</a>\u001b[0m \u001b[39mtry\u001b[39;00m:\n\u001b[1;32m---> <a href='vscode-notebook-cell:/c%3A/Users/aidan/OneDrive/Desktop/itu/msc/courses/sem1/data_in_the_wild/project/repo/data-in-the-wild/notebooks/selenium_tomatoes.ipynb#X13sZmlsZQ%3D%3D?line=37'>38</a>\u001b[0m     next_page\u001b[39m.\u001b[39mclick()\n\u001b[0;32m     <a href='vscode-notebook-cell:/c%3A/Users/aidan/OneDrive/Desktop/itu/msc/courses/sem1/data_in_the_wild/project/repo/data-in-the-wild/notebooks/selenium_tomatoes.ipynb#X13sZmlsZQ%3D%3D?line=38'>39</a>\u001b[0m \u001b[39mexcept\u001b[39;00m NoSuchElementException:\n\u001b[0;32m     <a href='vscode-notebook-cell:/c%3A/Users/aidan/OneDrive/Desktop/itu/msc/courses/sem1/data_in_the_wild/project/repo/data-in-the-wild/notebooks/selenium_tomatoes.ipynb#X13sZmlsZQ%3D%3D?line=39'>40</a>\u001b[0m     done \u001b[39m=\u001b[39m \u001b[39mTrue\u001b[39;00m\n",
      "File \u001b[1;32mc:\\Users\\aidan\\anaconda3\\envs\\rizz_king\\Lib\\site-packages\\selenium\\webdriver\\remote\\webelement.py:93\u001b[0m, in \u001b[0;36mWebElement.click\u001b[1;34m(self)\u001b[0m\n\u001b[0;32m     91\u001b[0m \u001b[39mdef\u001b[39;00m \u001b[39mclick\u001b[39m(\u001b[39mself\u001b[39m) \u001b[39m-\u001b[39m\u001b[39m>\u001b[39m \u001b[39mNone\u001b[39;00m:\n\u001b[0;32m     92\u001b[0m \u001b[39m    \u001b[39m\u001b[39m\"\"\"Clicks the element.\"\"\"\u001b[39;00m\n\u001b[1;32m---> 93\u001b[0m     \u001b[39mself\u001b[39m\u001b[39m.\u001b[39m_execute(Command\u001b[39m.\u001b[39mCLICK_ELEMENT)\n",
      "File \u001b[1;32mc:\\Users\\aidan\\anaconda3\\envs\\rizz_king\\Lib\\site-packages\\selenium\\webdriver\\remote\\webelement.py:394\u001b[0m, in \u001b[0;36mWebElement._execute\u001b[1;34m(self, command, params)\u001b[0m\n\u001b[0;32m    392\u001b[0m     params \u001b[39m=\u001b[39m {}\n\u001b[0;32m    393\u001b[0m params[\u001b[39m\"\u001b[39m\u001b[39mid\u001b[39m\u001b[39m\"\u001b[39m] \u001b[39m=\u001b[39m \u001b[39mself\u001b[39m\u001b[39m.\u001b[39m_id\n\u001b[1;32m--> 394\u001b[0m \u001b[39mreturn\u001b[39;00m \u001b[39mself\u001b[39m\u001b[39m.\u001b[39m_parent\u001b[39m.\u001b[39mexecute(command, params)\n",
      "File \u001b[1;32mc:\\Users\\aidan\\anaconda3\\envs\\rizz_king\\Lib\\site-packages\\selenium\\webdriver\\remote\\webdriver.py:344\u001b[0m, in \u001b[0;36mWebDriver.execute\u001b[1;34m(self, driver_command, params)\u001b[0m\n\u001b[0;32m    342\u001b[0m response \u001b[39m=\u001b[39m \u001b[39mself\u001b[39m\u001b[39m.\u001b[39mcommand_executor\u001b[39m.\u001b[39mexecute(driver_command, params)\n\u001b[0;32m    343\u001b[0m \u001b[39mif\u001b[39;00m response:\n\u001b[1;32m--> 344\u001b[0m     \u001b[39mself\u001b[39m\u001b[39m.\u001b[39merror_handler\u001b[39m.\u001b[39mcheck_response(response)\n\u001b[0;32m    345\u001b[0m     response[\u001b[39m\"\u001b[39m\u001b[39mvalue\u001b[39m\u001b[39m\"\u001b[39m] \u001b[39m=\u001b[39m \u001b[39mself\u001b[39m\u001b[39m.\u001b[39m_unwrap_value(response\u001b[39m.\u001b[39mget(\u001b[39m\"\u001b[39m\u001b[39mvalue\u001b[39m\u001b[39m\"\u001b[39m, \u001b[39mNone\u001b[39;00m))\n\u001b[0;32m    346\u001b[0m     \u001b[39mreturn\u001b[39;00m response\n",
      "File \u001b[1;32mc:\\Users\\aidan\\anaconda3\\envs\\rizz_king\\Lib\\site-packages\\selenium\\webdriver\\remote\\errorhandler.py:229\u001b[0m, in \u001b[0;36mErrorHandler.check_response\u001b[1;34m(self, response)\u001b[0m\n\u001b[0;32m    227\u001b[0m         alert_text \u001b[39m=\u001b[39m value[\u001b[39m\"\u001b[39m\u001b[39malert\u001b[39m\u001b[39m\"\u001b[39m]\u001b[39m.\u001b[39mget(\u001b[39m\"\u001b[39m\u001b[39mtext\u001b[39m\u001b[39m\"\u001b[39m)\n\u001b[0;32m    228\u001b[0m     \u001b[39mraise\u001b[39;00m exception_class(message, screen, stacktrace, alert_text)  \u001b[39m# type: ignore[call-arg]  # mypy is not smart enough here\u001b[39;00m\n\u001b[1;32m--> 229\u001b[0m \u001b[39mraise\u001b[39;00m exception_class(message, screen, stacktrace)\n",
      "\u001b[1;31mElementNotInteractableException\u001b[0m: Message: element not interactable\n  (Session info: MicrosoftEdge=117.0.2045.60)\nStacktrace:\n\tGetHandleVerifier [0x00007FF7366D99F2+63682]\n\tMicrosoft::Applications::Events::ILogConfiguration::operator* [0x00007FF736661942+267762]\n\t(No symbol) [0x00007FF73641AA40]\n\t(No symbol) [0x00007FF73646C991]\n\t(No symbol) [0x00007FF73645F1DC]\n\t(No symbol) [0x00007FF73648C84A]\n\t(No symbol) [0x00007FF73645EC51]\n\t(No symbol) [0x00007FF73645EAFD]\n\t(No symbol) [0x00007FF73648CB70]\n\t(No symbol) [0x00007FF73645EC51]\n\t(No symbol) [0x00007FF7364A6A81]\n\t(No symbol) [0x00007FF73648C623]\n\t(No symbol) [0x00007FF73645DA7A]\n\t(No symbol) [0x00007FF73645CD6B]\n\t(No symbol) [0x00007FF73645E204]\n\tMicrosoft::Applications::Events::EventProperty::to_string [0x00007FF7368A5EF9+1233737]\n\t(No symbol) [0x00007FF7364DB274]\n\tMicrosoft::Applications::Events::EventProperty::~EventProperty [0x00007FF7365A32AA+33498]\n\tMicrosoft::Applications::Events::EventProperty::~EventProperty [0x00007FF73659BDE9+3609]\n\tMicrosoft::Applications::Events::EventProperty::to_string [0x00007FF7368A4C94+1229028]\n\tMicrosoft::Applications::Events::ILogConfiguration::operator* [0x00007FF73666BAE8+309144]\n\tMicrosoft::Applications::Events::ILogConfiguration::operator* [0x00007FF7366667C4+287860]\n\tMicrosoft::Applications::Events::ILogConfiguration::operator* [0x00007FF7366668F2+288162]\n\tMicrosoft::Applications::Events::ILogConfiguration::operator* [0x00007FF736659FF1+236705]\n\tBaseThreadInitThunk [0x00007FFAA7687344+20]\n\tRtlUserThreadStart [0x00007FFAA78226B1+33]\n"
     ]
    }
   ],
   "source": [
    "movie_title_test_list = ['Cocaine Bear']\n",
    "reviews_per_movie = 100\n",
    "\n",
    "browser = open_browser_instance()\n",
    "\n",
    "for movie_title in movie_title_test_list:\n",
    "    df = scrape_critic_reviews(browser, movie_title, reviews_per_movie)\n",
    "\n",
    "\n",
    "browser.close()"
   ]
  }
 ],
 "metadata": {
  "kernelspec": {
   "display_name": "data_wrangling",
   "language": "python",
   "name": "python3"
  },
  "language_info": {
   "codemirror_mode": {
    "name": "ipython",
    "version": 3
   },
   "file_extension": ".py",
   "mimetype": "text/x-python",
   "name": "python",
   "nbconvert_exporter": "python",
   "pygments_lexer": "ipython3",
   "version": "3.11.5"
  }
 },
 "nbformat": 4,
 "nbformat_minor": 2
}
