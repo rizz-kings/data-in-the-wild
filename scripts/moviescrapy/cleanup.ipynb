{
 "cells": [
  {
   "cell_type": "code",
   "execution_count": 5,
   "metadata": {},
   "outputs": [],
   "source": [
    "import json\n",
    "\n",
    "with open('result.json') as f:\n",
    "    data = json.load(f)\n",
    "    # find all the movie titles in the reviews\n",
    "    titles = [review['movie'] for review in data]\n",
    "    # find all the unique movie titles\n",
    "    unique_titles = set(titles)\n",
    "    # compare it to movies.json to see if there are any missing movies\n",
    "    with open('movies.json') as f:\n",
    "        movies = json.load(f)\n",
    "        movie_titles = [movie for movie in movies]\n",
    "        for title in unique_titles:\n",
    "            if title not in movie_titles:\n",
    "                print(title)"
   ]
  },
  {
   "cell_type": "code",
   "execution_count": 7,
   "metadata": {},
   "outputs": [
    {
     "name": "stdout",
     "output_type": "stream",
     "text": [
      "{'guardians-of-the-galaxy-vol-3': 172, 'avengers-infinity-war': 1034, 'spider-man-no-way-home': 1283, 'ant-man-and-the-wasp-quantumania': 294, 'avengers-endgame': 1402, 'thor-love-and-thunder': 441, 'doctor-strange-in-the-multiverse-of-madness': 652, 'black-panther-wakanda-forever': 249, 'the-avengers': 7, 'iron-man': 274, 'avengers-age-of-ultron': 100, 'spider-man-homecoming': 424, 'shang-chi-and-the-legend-of-the-ten-rings': 303, 'thor-ragnarok': 468, 'iron-man-2': 268, 'spider-man-far-from-home': 432, 'eternals': 748, 'black-panther': 457, 'black-widow': 531, 'doctor-strange': 316, 'captain-america-civil-war': 537, 'captain-marvel': 2106, 'thor': 193, 'thor-the-dark-world': 319, 'iron-man-3': 584, 'the-incredible-hulk': 100, 'ant-man': 353, 'captain-america-the-first-avenger': 362, 'ant-man-and-the-wasp': 228, 'captain-america-the-winter-soldier': 100, 'guardians-of-the-galaxy': 621}\n"
     ]
    }
   ],
   "source": [
    "\n",
    "with open('result.json') as f:\n",
    "    data = json.load(f)\n",
    "    # find all the movie titles in the reviews\n",
    "    titles = [review['movie'] for review in data]\n",
    "    # count entries for each movie\n",
    "    counts = {}\n",
    "    for title in titles:\n",
    "        if title in counts:\n",
    "            counts[title] += 1\n",
    "        else:\n",
    "            counts[title] = 1\n",
    "    # print out the counts\n",
    "    counts"
   ]
  },
  {
   "cell_type": "code",
   "execution_count": 8,
   "metadata": {},
   "outputs": [],
   "source": [
    "# load all the reviews\n",
    "import datetime\n",
    "import json\n",
    "\n",
    "\n",
    "reviews = []\n",
    "\n",
    "with open('result.json') as f:\n",
    "    data = json.load(f)\n",
    "    # find all the movie titles in the reviews\n",
    "    for review in data:\n",
    "        if review[\"user\"] == \"\":\n",
    "            print(\"Skipping review with no title\")\n",
    "            continue\n",
    "\n",
    "        title = review[\"movie\"]\n",
    "        review[\"url\"] = f\"https://www.metacritic.com/movie/{title}/user-reviews\"\n",
    "        # if the review is not in the reviews list, add it\n",
    "        if review[\"movie\"] == \"guardians-of-the-galaxy-vol-3\":\n",
    "            review[\"movie\"] = \"guardians-of-the-galaxy-vol.-3\"\n",
    "\n",
    "        # get current date and time\n",
    "        now = datetime.datetime.now()\n",
    "        # format date DD/MM/YYYY\n",
    "        date = now.strftime(\"%d/%m/%Y\")\n",
    "        review[\"scrape_date\"] = date\n",
    "\n",
    "\n",
    "\n",
    "            \n",
    "        reviews.append(review)\n",
    "\n",
    "# save the reviews\n",
    "with open('result_clean.json', 'w') as f:\n",
    "    json.dump(reviews, f, indent=4)\n",
    "            "
   ]
  },
  {
   "cell_type": "code",
   "execution_count": null,
   "metadata": {},
   "outputs": [],
   "source": []
  }
 ],
 "metadata": {
  "kernelspec": {
   "display_name": "ditw",
   "language": "python",
   "name": "python3"
  },
  "language_info": {
   "codemirror_mode": {
    "name": "ipython",
    "version": 3
   },
   "file_extension": ".py",
   "mimetype": "text/x-python",
   "name": "python",
   "nbconvert_exporter": "python",
   "pygments_lexer": "ipython3",
   "version": "3.10.12"
  },
  "orig_nbformat": 4
 },
 "nbformat": 4,
 "nbformat_minor": 2
}
